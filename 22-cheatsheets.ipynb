{
 "cells": [
  {
   "cell_type": "markdown",
   "id": "dcadec81-967e-4f93-b9d5-e589e8dafc60",
   "metadata": {},
   "source": [
    "## Lecture 21: Hydrogen Atom, Hydrogen Atom Spectrum"
   ]
  },
  {
   "cell_type": "markdown",
   "id": "ad621f68-091c-40e2-b671-5aed07939d07",
   "metadata": {},
   "source": [
    "## 22.1 The Hydrogen Atom\n",
    "\n",
    "### Our goal here is to show that the two-body quantum mechanical problem of the hydrogen atom can be recast as one in which we have center-of-mass degrees of freedom that behave like a free particle and relative-motion degrees of freedom for which we have dynamics controlled by a central potential. The hydrogen atom consists of a proton and an electron moving in three dimensions. We label the position and momentum operators of the proton as $\\hat{x}_p, \\hat{p}_p$, and those of the electron as $\\hat{x}_e, \\hat{p}_e$. \n",
    "\n",
    "### These are canonical variables, meaning they satisfy the canonical commutation relations:\n",
    "## $$ [(\\hat{x}_p)_i, (\\hat{p}_p)_j] = i\\hbar \\delta_{ij}, \\quad [(\\hat{x}_e)_i, (\\hat{p}_e)_j] = i\\hbar \\delta_{ij} \\quad (1.1) $$\n",
    "\n",
    "### Here the subscripts $i, j = 1, 2, 3$ denote the various components of the vector operators. Furthermore, the proton variables **commute** with the electron variables. We have two pairs of **independent** canonical variables.\n",
    "\n",
    "### The wavefunction for the system is a function of the positions of both particles:\n",
    "## $$ \\Psi(\\vec{x}_p, \\vec{x}_e) \\quad (1.2) $$\n",
    "\n",
    "### and the quantity\n",
    "## $$ |\\Psi(\\vec{x}_p, \\vec{x}_e)|^2 \\mathop{d^3\\vec{x}_p} \\mathop{d^3 \\vec{x}_e} \\quad (1.3) $$\n",
    "\n",
    "### is the probability to find the proton within a window $\\mathop{d^3\\vec{x}_p}$ of $\\vec{x}_p$ and the electron within a window $\\mathop{d^3\\vec{x}_e} $ of $\\vec{x}_e$. The Hamiltonian of the system is given by\n",
    "## $$ \\hat{H} = \\frac{\\hat{\\vec{p}}_p^2}{2 m_p} + \\frac{\\hat{\\vec{p}}_e^2}{2 m_e} + V(|\\vec{x}_e - \\vec{x}_p|) \\quad (1.4) $$\n",
    "\n",
    "### Note that the kinetic energy is simply the sum of the kinetic energy of the proton and kinetic energy of the electron. The potential only depends on the magnitude of the separation between the two particles, not on their individual positions.\n",
    "\n",
    "### In order to simplify the problem, we will introduce two new pairs of independent canonical variables. The first pair is associated with the center-of-mass (CM) motion. \n",
    "\n",
    "### We introduce the total momentum operator $\\hat{\\vec{P}}$ and the CM position operator $\\hat{\\vec{X}}$ , given by\n",
    "## $$ \\hat{\\vec{P}} = \\hat{\\vec{p}}_p + \\hat{\\vec{p}}_e, \\quad \\hat{\\vec{X}} = \\frac{m_e \\hat{\\vec{x}}_e + m_p \\hat{\\vec{x}}_p }{m_e + m_p} \\quad (1.5) $$"
   ]
  },
  {
   "cell_type": "markdown",
   "id": "1247da54-dca0-4586-8226-d128b3b27188",
   "metadata": {},
   "source": [
    "### The operator $\\hat{\\vec{X}}$ is given by the typical expression for the center-of-mass of the system, but with the positions replaced by position operators. Using the commutation relations $(1.1)$, we can show that $\\hat{\\vec{X}}$ and $\\hat{\\vec{P}}$ are canonical conjugates:\n",
    "## $$ \\begin{array} {rcl} \\displaystyle \\left[ (\\hat{\\vec{X}})_i, (\\hat{\\vec{P}})_j \\right] & = & \\displaystyle \\left[ \\frac{m_e (\\hat{\\vec{x}}_e)_i + m_p(\\hat{\\vec{x}}_p)_i}{m_e + m_p}, (\\hat{\\vec{p}}_p)_j + (\\hat{\\vec{p}}_e)_j \\right] \\\\ \\, & = & \\displaystyle \\frac{m_e}{m_e+m_p} [(\\hat{\\vec{x}}_e)_i, (\\hat{\\vec{p}}_e)_j] + \\frac{m_p}{m_e+m_p} [(\\hat{\\vec{x}}_p)_i, (\\hat{\\vec{p}}_p)_j] \\\\ \\, & = & \\displaystyle \\frac{m_e}{m_e+m_p} i\\hbar \\delta_{ij} + \\frac{m_p}{m_e+m_p} i\\hbar \\delta_{ij} \\end{array} \\quad (1.6) $$\n",
    "\n",
    "### resulting in the expected\n",
    "## $$ [(\\hat{\\vec{X}})_i, (\\hat{\\vec{P}})_j] = i\\hbar \\delta_{ij} \\quad (1.7) $$\n",
    "\n",
    "### For the second pair of canonical variables we will define relative position and momentum operators.\n",
    "\n",
    "### The relative position operator is the natural variable implied by the form of the potential:\n",
    "## $$ \\hat{\\vec{x}} = \\hat{\\vec{x}}_e - \\hat{\\vec{x}}_p \\quad (1.8) $$\n",
    "\n",
    "### Since the second pair of canonical variables must commute with the first pair, we must check that $\\hat{\\vec{x}}$ defined above, commutes with $\\hat{\\vec{X}}$ and with $\\hat{\\vec{P}}$. The commutation with $\\hat{\\vec{X}}$ is automatic and the commutation with $\\hat{\\vec{P}}$ works thanks to the minus sign in the above definition. We must now construct a relative momentum operator $\\hat{\\vec{p}}$ that is canonically conjugate to $\\hat{\\vec{x}}$. It must be built from the momentum operators of the two particles, so we write\n",
    "## $$ \\hat{\\vec{p}} = \\alpha \\hat{\\vec{p}}_e - \\beta \\hat{\\vec{p}}_p \\quad (1.9) $$\n",
    "\n",
    "### with $\\alpha$ and $\\beta$ coefficients to be determined. \n",
    "\n",
    "### To be canonically conjugate, the relative operators must satisfy\n",
    "## $$ [(\\hat{\\vec{x}})_i, (\\hat{\\vec{p}})_j] = i\\hbar \\delta_{ij} \\to \\alpha + \\beta = 1 \\quad (1.10) $$\n",
    "\n",
    "### using the above definitions of $\\hat{\\vec{x}}$ and $\\hat{\\vec{p}}$ and the proton and electron commutators.\n",
    "\n",
    "### Finally, the relative momentum must commute with the CM coordinate\n",
    "## $$ [(\\hat{\\vec{X}})_i, (\\hat{\\vec{p}})_j] = 0 \\to m_e \\alpha - m_p\\beta = 0 \\quad (1.11)) $$"
   ]
  },
  {
   "cell_type": "markdown",
   "id": "36ab09e8-8054-47de-9266-95cfb65d85ea",
   "metadata": {},
   "source": [
    "### The two equations for $\\alpha$ and $\\beta$ can be solved to find\n",
    "## $$ \\alpha = \\frac{m_p}{m_e + m_p}, \\quad \\beta = \\frac{m_e}{m_e + m_p} \\quad (1.12) $$\n",
    "\n",
    "### We define the total mass $M$ and the reduced mass $\\mu$ as follows\n",
    "## $$ M = m_e + m_p, \\quad \\mu = \\frac{m_e m_p}{m_e + m_p} \\quad (1.13) $$\n",
    "\n",
    "### The reduced mass of a pair of particles with very different masses is approximately equal to the mass of the lower-mass particle. Using these definitions\n",
    "## $$ \\alpha = \\frac{\\mu}{m_e}, \\quad \\beta = \\frac{\\mu}{m_p} \\quad (1.14) $$\n",
    "\n",
    "### Thus, collecting the relative variables we have\n",
    "## $$ \\hat{\\vec{p}} = \\mu \\left( \\frac{\\hat{\\vec{p}}_e}{m_e} - \\frac{\\hat{\\vec{p}}_p}{m_p} \\right) = \\frac{m_p}{M}\\hat{\\vec{p}}_e - \\frac{m_e}{M}\\hat{\\vec{p}}_p, \\quad \\hat{\\vec{x}} = \\hat{\\vec{x}}_e - \\hat{\\vec{x}}_p \\quad (1.15) $$\n",
    "\n",
    "### Note that the relative momentum $\\vec{p}$ can be written in terms of velocities as follows: $\\vec{p} = \\mu (\\vec{v}_e - \\vec{v}_p)$. The relative momentum vanishes if the motion is only CM motion, in which case the velocities of the two parties are the same.\n",
    "\n",
    "### We can now rewrite the Hamiltonian in terms of the new variables. Solving for the original momentum operators in terms of $\\hat{\\vec{P}}$ and $\\hat{\\vec{p}}$, we find\n",
    "## $$ \\hat{\\vec{p}}_p = \\frac{m_p}{M}\\hat{\\vec{P}}-\\hat{\\vec{p}}, \\quad \\hat{\\vec{p}}_e = \\frac{m_e}{M}\\hat{\\vec{P}}+\\hat{\\vec{p}} \\quad (1.16) $$"
   ]
  },
  {
   "cell_type": "markdown",
   "id": "ce652775-1967-464f-8de9-a47aaf0ab376",
   "metadata": {},
   "source": [
    "### We can then rewrite the kinetic terms of the Hamiltonian in the form\n",
    "## $$ \\begin{array} {rcl} \\displaystyle \\frac{\\hat{\\vec{p}}_p^2}{2m_p} + \\frac{\\hat{\\vec{p}}_e^2}{2m_e} & = & \\displaystyle \\frac{1}{2m_p} \\left( \\frac{m_p^2}{M^2}\\hat{\\vec{P}}^2 - \\frac{2m_p}{M} \\hat{\\vec{P}} \\cdot \\hat{\\vec{p}} + \\hat{\\vec{p}}^2 \\right) \\\\ \\, & & \\displaystyle +  \\frac{1}{2m_e} \\left( \\frac{m_e^2}{M^2}\\hat{\\vec{P}}^2 + \\frac{2m_e}{M} \\hat{\\vec{P}} \\cdot \\hat{\\vec{p}} + \\hat{\\vec{p}}^2 \\right) \\\\ \\, & = & \\displaystyle \\frac{\\hat{\\vec{P}}^2}{2M} + \\frac{\\hat{\\vec{p}}^2}{2\\mu} \\end{array} \\quad (1.17) $$\n",
    "\n",
    "### Happily the term coupling the two momenta vanishes. Thus the center of mass degrees of freedom and the relative degrees of freedom give independent contributions to the kinetic energy. The Hamiltonian can then be written as\n",
    "## $$ \\hat{H} = \\frac{\\hat{\\vec{P}}^2}{2M} + \\frac{\\hat{\\vec{p}}^2}{2\\mu} + V(\\hat{\\vec{x}}) \\quad (1.18) $$\n",
    "\n",
    "### In position space, the total and relative momentum operators can be expressed as gradients\n",
    "## $$ \\hat{\\vec{P}} \\to \\frac{\\hbar}{i} \\nabla_{\\vec{X}}, \\quad \\hat{\\vec{p}} \\to \\frac{\\hbar}{i}\\nabla_{\\vec{x}} \\quad (1.19) $$\n",
    "\n",
    "### Each $\\nabla$ has a subscript indicating the type of coordinate we use to take the derivatives. Just like we had a wavefunction $\\Psi(\\vec{x}_e, \\vec{x}_p)$ the new canonical variables require that we now think of the wavefunction as a function $\\Psi(\\vec{X}, \\vec{x})$ of the new coordinates.\n",
    "\n",
    "### We solve the time-independent Schrödinger equation by using separation of variables\n",
    "## $$ \\Psi(\\vec{X}, \\vec{x}) = \\Psi_{CM}(\\vec{X})\\Psi_{rel}(\\vec{x}) \\quad (1.20) $$\n",
    "\n",
    "### Plugging these into the time-independent Schrödinger equation $\\hat{H} \\Psi = E \\Psi$, we reach\n",
    "## $$ \\left[ \\frac{\\hat{\\vec{P}}^2}{2M}\\Psi_{CM}(\\vec{X}) \\right] \\Psi_{rel}(\\vec{x}) + \\left[ \\frac{\\hat{\\vec{p}}^2}{2\\mu}\\Psi_{rel}(\\vec{x}) + V(|\\hat{\\vec{x}}|)\\Psi_{rel}(\\vec{x}) \\right]\\Psi_{CM}(\\vec{X}) = E \\Psi_{CM}(\\vec{X}) \\Psi_{rel}(\\vec{x}) \\quad (1.21) $$\n",
    "\n",
    "### Dividing by the total wavefunction $\\Psi_{CM}(\\vec{X})\\Psi_{rel}(\\vec{x})$, this becomes\n",
    "## $$ \\frac{1}{\\Psi_{CM}(\\vec{X})}\\left[ \\frac{\\hat{\\vec{P}}^2}{2M}\\Psi_{CM}(\\vec{X}) \\right] + \\frac{1}{\\Psi_{rel}(\\vec{x})}\\left[ \\frac{\\hat{\\vec{p}}^2}{2\\mu} + V(|\\hat{\\vec{x}}|) \\right]\\Psi_{rel}(\\vec{x}) = E \\quad (1.22) $$"
   ]
  },
  {
   "cell_type": "markdown",
   "id": "dc75b98f-bcc0-49c2-9f67-0d988f63203c",
   "metadata": {},
   "source": [
    "### The first term on the left-hand side is a function of $\\vec{X}$ only and the second term on the left-hand side is a function of $\\vec{x}$ only. Their sum is equal to the constant $E$ and since $\\vec{x}$ and $\\vec{X}$ are independent variables, each term must individually be constant. We thus set the first term equal to the constant $E_{CM}$ and the second term equal to the constant $E_{rel}$, resulting in the following equations:\n",
    "## $$ \\frac{\\hat{\\vec{P}}^2}{2M}\\Psi_{CM}(\\vec{X}) = E_{CM}\\Psi_{CM}(\\vec{X}) \\quad (1.23) $$\n",
    "## $$ \\left[ \\frac{\\hat{\\vec{p}}^2}{2\\mu} + V(|\\vec{x}|)\\Psi_{rel}(\\vec{x}) \\right] = E_{rel}\\Psi_{rel}(\\vec{x}) \\quad (1.24) $$\n",
    "## $$ E = E_{CM} + E_{rel} \\quad (1.25) $$\n",
    "\n",
    "### We get two Schrödinger equations. The first equation tells us that the center of mass moves as a free particle of mass $M$. Thus, the $CM$ energy is not quantized and we get plane wave solutions. The second equation is for the relative motion, and as we wanted to show, it is described as motion in a central potential. The third equation tells us that the total energy is the sum of the center-of-mass energy and the energy from the relative motion."
   ]
  },
  {
   "cell_type": "markdown",
   "id": "b0eb6f85-1aaf-4c8c-ac49-d6b74d975f0b",
   "metadata": {},
   "source": [
    "## 22.2 Hydrogen atom spectrum\n",
    "\n",
    "### We now have the tools to study the hydrogen atom, which has a central potential given by\n",
    "## $$ V(r) = -\\frac{Ze^2}{r} \\quad (2.1) $$\n",
    "\n",
    "### where $Z$ is the number of protons in the nucleus. For hydrogen we have $Z = 1$. But it is worth considering $Z > 1$ in which case we are describing the motion of an electron around the nucleus of some other atom. We will also define following physical constants.\n",
    "- ### The fine structure constant $\\alpha$: $\\displaystyle \\alpha = \\frac{e^2}{\\hbar c} \\simeq \\frac{1}{137}$\n",
    "- ### The **Bohr radius** $a_0$. This is the characteristic length scale in the problem. It can be calculated by equating kinetic and potential energies expressed in terms of $a_0$ and ignoring all numerical constants:\n",
    "## $$ \\frac{\\hbar^2}{m_e a_0^2} = \\frac{e^2}{a_0} \\quad (2.2) $$\n",
    "\n",
    "### Here the mass should be the reduced mass, which in this case can be taken rather accurately to be the mass of the electron. We then have explicitly,\n",
    "## $$ \\begin{array} {rcl} a_0 & = & \\displaystyle \\frac{\\hbar^2}{me^2} = \\frac{\\hbar^2 c^2}{e^2 m c^2} = \\frac{\\hbar c}{\\left(\\frac{e^2}{\\hbar c} \\right) mc^2} = \\frac{\\hbar c}{\\alpha m c^2} \\\\ \\, & = & \\displaystyle \\frac{197 \\mathop{MeV}\\mathop{fm}}{0.51\\times 10^6 \\mathop{eV}\\left(\\frac{1}{137} \\right) } = \\frac{1970 \\mathop{eV} \\mathop{\\text{Angstrom}}}{0.51\\times 10^6\\mathop{eV}}\\times 137 \\\\ \\, & = & \\displaystyle 0.529 \\mathop{\\text{Angstroms}} \\simeq 53 \\mathop{pm} \\end{array} \\quad (2.3) $$\n",
    "\n",
    "### For the energy scale estimate we have\n",
    "## $$ \\frac{e^2}{a_0} = e^2 \\left( \\frac{m e^2}{\\hbar^2} \\right) = \\left(\\frac{e^4}{\\hbar^2 c^2} \\right) m c^2 = \\alpha^2 mc^2 = \\frac{1}{(137)^2}\\times (511000\\mathop{eV}) \\simeq 27.2 \\mathop{eV} \\quad (2.4) $$\n",
    "\n",
    "### There are other characteristic lengths that are interesting:\n",
    "## $$ \\begin{array} {rcl} \\alpha a_0 & = & \\text{Compton wavelength of electron}\\, = \\lambda_e \\simeq 390\\mathop{fm}\\\\ \\alpha^2 a_0 & = & \\text{classical electron radius} \\simeq 2.8 \\mathop{fm} \\end{array} \\quad (2.5) $$"
   ]
  },
  {
   "cell_type": "markdown",
   "id": "09b8cdc9-cbd2-435d-81eb-a13cc0917dc9",
   "metadata": {},
   "source": [
    "### Let us do some work now! The radial Schrödinger equation for bound states $E < 0$ reads\n",
    "## $$ \\left( -\\frac{\\hbar^2}{2m}\\frac{d^2}{dr^2} + \\frac{\\hbar^2 l(l+1)}{2mr^2}-\\frac{Z e^2}{r} \\right) u = E u \\quad (2.6) $$\n",
    "\n",
    "### We could label the wavefunction $u$ as $u_{El}$ as the solutions will certainly depend on $l$ and the energy $E$. As usual, we like to work with a unit free coordinate. This could be achieved by writing $r = a_0 x$, with $x$ unit free and $a_0$ carrying the length units of $r$. It will be more convenient to use a slight variation to eliminate $Z$ from the equation and some factors of two. We will take the new unit-free coordinate $x$ to be defined from\n",
    "## $$ \\boxed{r \\equiv \\frac{a_0}{2Z}x} \\quad (2.7) $$\n",
    "\n",
    "### The Schrödinger equation then becomes\n",
    "## $$ \\begin{array} {rcl} \\displaystyle \\left( -\\frac{\\hbar^2}{2m}\\frac{4Z^2}{a_0^2}\\frac{d^2}{dx^2}+\\frac{4Z^2}{a_0^2}\\frac{\\hbar^2}{2m}\\frac{l(l+1)}{x^2}-\\frac{2Z^2e^2}{a_0}\\frac{1}{x} \\right) u & = & Eu \\\\ \\displaystyle \\to \\left( \\frac{2\\hbar^2 Z^2}{ma_0^2}\\left(-\\frac{d^2}{dx^2}+\\frac{l(l+1)}{x^2} \\right) -\\frac{2Z^2e^2}{a_0}\\frac{1}{x} \\right) u & = & Eu \\end{array} \\quad (2.8) $$\n",
    "\n",
    "### Note that\n",
    "## $$ \\frac{2\\hbar^2 Z^2}{m a_0^2} = \\frac{2\\hbar^2 Z^2}{m a_0}\\frac{m e^2}{\\hbar^2} = \\frac{2 Z^2 e^2}{a_0} \\quad (2.9) $$\n",
    "\n",
    "### which reduces our differential equation to\n",
    "## $$ \\left(-\\frac{d^2}{dx^2} + \\frac{l(l+1)}{x^2} - \\frac{1}{x} \\right) u = \\frac{E}{\\left( \\frac{2 Z^2 e^2}{a_0} \\right)}u \\quad (2.10) $$"
   ]
  },
  {
   "cell_type": "markdown",
   "id": "ea2e2eb9-da19-47a4-bdb2-49efc805cf3e",
   "metadata": {},
   "source": [
    "### We now define the unit-free parameter $\\kappa$ that encodes the energy:\n",
    "## $$ \\boxed{\\kappa^2 = - \\frac{E}{\\left( \\frac{2Z^2 e^2}{a_0} \\right)}> 0} \\quad (2.11) $$\n",
    "\n",
    "### $\\kappa$ is a unit-free version of the bound state energy. \n",
    "\n",
    "### The differential equation is then\n",
    "## $$ \\boxed{\\left( -\\frac{d^2}{dx^2} + \\frac{l(l+1)}{x^2}-\\frac{1}{x} \\right) u = -\\kappa^2 u} \\quad (2.12) $$\n",
    "\n",
    "### We can further simplify this equation prior to solving it by examining the limiting cases. In the limit $x\\to\\infty$, the dominant terms are the second derivative and the term on the right-hand side, giving\n",
    "## $$ \\frac{d^2u}{dx^2} = \\kappa^2 u \\implies u \\sim e^{\\pm \\kappa x} \\quad (2.13) $$\n",
    "\n",
    "### Since $\\kappa$ is unit free, we can make the above exponent equal to a new unit-free coordinate $\\rho$:\n",
    "## $$ \\boxed{\\rho \\equiv \\kappa x = \\frac{2\\kappa Z}{a_0}r} \\quad (2.14) $$\n",
    "\n",
    "### This time we get\n",
    "## $$ \\boxed{ \\left( -\\frac{d^2}{d\\rho^2}+\\frac{l(l+1)}{\\rho^2}-\\frac{1}{\\kappa \\rho} \\right) u = -u } \\quad (2.15) $$\n",
    "\n",
    "### Note that we did not get $\\kappa$ to disappear from the equation. This is good news: the equation should fix the possible values of $\\kappa$ (or possible energies). The equation above is not quite ready for a series solution: we would find a three term recursion relation, which is rather complicated. To make progress we discuss the behavior for small and large $\\rho$.\n",
    "\n",
    "### For $\\rho \\to \\infty$ we now get $u \\sim u^{\\pm \\rho}$ and of course we hope for $u = e^{-\\rho}$ for normalizability. As we discussed before, for $\\rho \\to 0$ the radial solution must be of the form $u \\sim \\rho^{l+1}$. This information about the behavior for small and for large $\\rho$ suggests a good ansatz for $u(\\rho)$\n",
    "## $$ \\boxed{u(\\rho) = \\rho^{l+1}W(\\rho)e^{-\\rho}} \\quad (2.16) $$\n",
    "\n",
    "### where $W(\\rho)$ is a yet to be determined function that we hope satisfies a simpler differential equation. To derive this differential equation for $W(\\rho)$, we plug our ansatz into Eq. $(2.15)$. As a little help on the calculation, we give an intermediate result:\n",
    "## $$ -u'' + \\frac{l(l+1)}{\\rho^2}u+u = \\left( -W'' -\\frac{2(l+1)}{\\rho}W' + \\frac{2(l+1)}{\\rho}W + 2W' \\right) \\rho^{l+1}e^{-\\rho} \\quad (2.17) $$"
   ]
  },
  {
   "cell_type": "markdown",
   "id": "05ef949e-3d23-4273-a6cf-6ceb5ca3d7a4",
   "metadata": {},
   "source": [
    "### With a little more work we finally get the differential equation for $W$:\n",
    "## $$ \\boxed{\\rho\\frac{d^2 W}{d\\rho^2} +2(l+1-\\rho)\\frac{dW}{d\\rho} + \\left[ \\frac{1}{\\kappa} - 2(l+1) \\right]W = 0 } \\quad (2.18) $$\n",
    "\n",
    "### This looks a bit more complicated than the differential equation we started with but it leads to a very nice one-step recursion relation. \n",
    "\n",
    "### As usual we write $W$ as a series expansion\n",
    "## $$ W = \\sum_{k=0}^{\\infty} a_k \\rho^k \\quad (2.19) $$\n",
    "\n",
    "### and plugging back into $(2.18)$, we group terms of order $\\rho^k$ to derive a recursion relation\n",
    "## $$ \\begin{array} {rcl} \\displaystyle a_{k+1} k(k+1) + 2(l+1)(k+1)a_{k+1} - 2 k a_{k}+\\left[ \\frac{1}{\\kappa} - 2(l+1) \\right]a_k & = & 0 \\\\ \\displaystyle \\to a_{k+1}(k(k+1)+2(l+1)(k+1)) & = & \\displaystyle a_k \\left( 2(l+k+1)-\\frac{1}{\\kappa} \\right) \\end{array} \\quad (2.20) $$\n",
    "\n",
    "### which gives\n",
    "## $$ \\frac{a_{k+1}}{a_k} = \\frac{2(k+l+1)-\\frac{1}{\\kappa}}{(k+1)(k+2l+2)} \\quad (2.21) $$\n",
    "\n",
    "### Detailed examination shows that for normalizable wave functions, the series must terminate. To see this we examine the large $k$ behavior of the above ratio:\n",
    "## $$ \\frac{a_{k+1}}{a_k} \\simeq \\frac{2k}{k^2} = \\frac{2}{k} \\quad (2.22) $$\n",
    "\n",
    "### Note that $\\displaystyle \\frac{2}{k+1}<\\frac{2}{k}$; thus if the ratio $\\displaystyle \\frac{2}{k+1}$ leads to a divergence so will the ratio $\\frac{2}{k}$. \n",
    "\n",
    "### Taking\n",
    "## $$ \\frac{a_{k+1}}{a_k} = \\frac{2}{k+1} \\to a_{k+1} = \\frac{2}{k+1} a_k \\quad (2.23) $$\n",
    "\n",
    "### and this is solved by\n",
    "## $$ a_k = \\frac{2^k}{k!}a_0 \\quad (2.24) $$"
   ]
  },
  {
   "cell_type": "markdown",
   "id": "ac1f1e3c-bddc-4b5c-bdfa-ad95d7ee1f85",
   "metadata": {},
   "source": [
    "## Therefore, the sum\n",
    "## $$ W = \\sum_{k=0}^{\\infty} a_k \\rho^k \\simeq a_0 \\sum_{k=0}^{\\infty} \\frac{2^k \\rho^k}{k!} = a_0 e^{2\\rho} \\quad (2.25) $$\n",
    "\n",
    "### This is precisely sufficient to make the ansatz in $(2.16)$ un-normalizable.\n",
    "\n",
    "### In order to get a normalizable solution the series for $W$ must terminate. Suppose $W$ is a polynomial of degree $N$ so the coefficients satisfy\n",
    "## $$ a_N \\neq 0 \\quad \\text{and} \\quad a_{N+1} = 0 \\quad (2.26) $$\n",
    "\n",
    "### From Eq.$(2.21)$ this implies\n",
    "## $$ \\frac{1}{\\kappa} = 2 (N + l + 1) \\quad (2.27) $$\n",
    "\n",
    "### Quantization has happened! The energy-encoding parameter $\\kappa$ is now related to integers! Note that $l$ can take values $l = 0, 1, 2, \\ldots$ as it befits it being an angular momentum quantum number. Moreover $N$ can take values $N = 0, 1, 2, \\ldots$, since a polynomial of degree zero exists, being equal to a constant. Define the principal quantum number $n$ as follows:\n",
    "## $$ \\boxed{ n \\equiv N + l + 1 = \\frac{1}{2\\kappa}, \\quad \\text{with}\\, l = 0,1,2,\\ldots, \\quad N = 0,1,2,\\ldots, \\quad \\text{and}\\quad n=1,2,3,\\ldots } \\quad (2.28) $$\n",
    "\n",
    "### Importantly, note that for a fixed $n$ we must have\n",
    "## $$ 0 \\leq l \\leq n-1, \\quad \\text{and} \\quad 0 \\leq N \\leq n-1 \\quad (2.29) $$\n",
    "\n",
    "### If $n$ and $l$ are known, $N$ is determined from $N + l + 1 = n$. So the independent quantum numbers so far are $n$ and $l$. Interestingly, the energies depend only on $n$, since $\\kappa$ depends only on $n$. Using Eq. $(2.11)$, the energy dependence on principle quantum number is given by\n",
    "## $$ E = -\\frac{2Z^2 e^2}{a_0} \\kappa^2 \\quad (2.30) $$\n",
    "\n",
    "### and using $\\displaystyle \\kappa = \\frac{1}{2n}$  we get\n",
    "## $$ \\boxed{E = -\\frac{Z^2e^2}{2a_0}\\frac{1}{n^2}} \\quad (2.31) $$"
   ]
  },
  {
   "cell_type": "markdown",
   "id": "d8d565a2-b81e-4e20-aca8-5b7518cfbf82",
   "metadata": {},
   "source": [
    "### These are the energy levels of the hydrogen atom! Since at any fixed value of $n > 1$ there are various possible $l$ values, the spectrum is highly degenerate. Even more, each value of $l$ amounts to $2l + 1$ states, given the possible values of $m$. One way to visualize the spectrum is shown in Figure 1. All integer points in the $(N, l)$ positive quadrant represent states. The states with common value of $n$ lie on the dashed lines.\n",
    "\n",
    "### Figure 1: All points with integer $N \\geq 0$ and integer $l \\geq 0$ represent hydrogen atom states. The figure helps us to count the number of possible states for given value of $n$. Each dot along the diagonal line for a given $n$ represents a possible state.\n",
    "![img](img/img-22-01.png)\n",
    "\n",
    "### Figure 1 helps us to count the number of bound states for a given value of $n$. Recall that for each $n$, $l$ can take values from $0, \\ldots, n - 1$ and for each value of $l$, $m$ takes values from $-l$ to $l$. The following table counts the states for the first few values of the principal quantum number $n$. A given state is specified by its values for $(n, l, m)$, all of which are referred to as thequantum numbers for hydrogen states. Each number has a very important physical meaning: $n$ tells us about the energy eigenvalue, $\\hbar^2l(l + 1)$ is the eigenvalue of the square of angular momentum and $m$ is the eigenvalue of the $z$ component of angular momentum.\n",
    "### $$ \\text{Number of States} $$\n",
    "## $$ \\begin{array} {l|c|c|r} n \\, \\text{value} & l\\,\\text{value} & m\\,\\text{value} & \\text{total states} \\\\ \\hline n=1 & l=0 & m=0 & 1\\,\\text{state} \\\\ \\hline n = 2 & \\begin{array} {c} l = 0 \\\\ l = 1 \\end{array} & \\begin{array} {c} m=0 \\\\ m=-1,0,1 \\end{array} & \\begin{array} {c} 1 \\\\ +3 \\\\ =4 \\,\\text{states} \\end{array} \\\\ \\hline n = 3 & \\begin{array} {c} l=0 \\\\ l =1 \\\\ l=2 \\end{array} & \\begin{array} {c} m=0 \\\\ m=-1,0,1 \\\\ m=-2,\\ldots,2 \\end{array} & \\begin{array} {c} 1 \\\\ +3 \\\\ +5 \\\\ = 9\\, \\text{states} \\end{array} \\\\ \\hline \\end{array} $$"
   ]
  },
  {
   "cell_type": "markdown",
   "id": "17ff51df-1add-42ea-aa75-cc7f43abb61f",
   "metadata": {},
   "source": [
    "### The total number of states for arbitrary principal quantum number $n$ can now be calculated:\n",
    "## $$ \\#\\, \\text{of states for}\\, n = \\sum_{l=0}^{n-1}(2l+1) = \\frac{2(n-1)n}{2}+n = n^2-n+n = n^2 \\quad (2.32) $$\n",
    "\n",
    "### This is in agreement with the partial results in the table. A more familiar representation of the states of hydrogen is given in Figure 2. The different columns indicate the different values of $l$. We have also indicated in the figure the values of $N$ , the degree of the polynomial entering the radial solution. Note that for a given $l$, that is, for a fixed radial equation, the value of $N$ increases as we go up the column. The number $N$ corresponds to the number of nodes in the solution.\n",
    "\n",
    "### Figure 2: Plot of energy levels $E \\sim -1/n^2$ indicating also the angular quantum number $l$ and the degree $N$ of the polynomial. The spectrum is highly degenerate.\n",
    "![img](img/img-22-02.png)\n",
    "\n",
    "### Recall that we defined $\\displaystyle \\rho = \\frac{2\\kappa Z r}{a_0}$. Together with $\\displaystyle \\kappa = \\frac{1}{2n}$ this gives\n",
    "## $$ \\boxed{\\rho = \\frac{Zr}{n a_0}} \\quad (2.33) $$\n",
    "\n",
    "### The eigenstates are labelled by quantum numbers $(n, l, m)$ and the wavefunctions are\n",
    "## $$ \\begin{array} {rcl} \\psi_{nlm} & = & \\displaystyle \\mathcal{N} \\frac{u_{nl}(r)}{r}Y_{lm}(\\theta, \\phi) = \\mathcal{N}\\frac{\\rho^{l+1}}{\\rho}W_{nl}(\\rho)e^{-\\rho}Y_{lm}(\\theta, \\phi) \\\\ \\, & = & \\displaystyle \\mathcal{N} \\rho^l \\underbrace{W_{nl}(\\rho)}_{\\text{polynomial of degree}\\,N=n-(l+1)} e^{-\\rho} Y_{lm}(\\theta, \\phi) \\end{array} \\quad (2.34)) $$"
   ]
  },
  {
   "cell_type": "markdown",
   "id": "919ba570-c3a4-41ec-a445-74ded6ba53ea",
   "metadata": {},
   "source": [
    "### where $\\mathcal{N}$ is a normalization constant. Therefore, using the expression for $\\rho$ and absorbing constants into $\\mathcal{n]$ we have\n",
    "## $$ \\boxed{\\psi_{nlm}(r, \\theta, \\phi) = \\mathcal{N} \\left( \\frac{r}{a_0} \\right)^l \\left( \\begin{array} {c} \\displaystyle \\text{polynomial in}\\, \\frac{r}{a_0} \\\\ \\text{of degree}\\, N = n-(l+1) \\end{array} \\right) e^{-\\frac{Zr}{na_0}} Y_{lm}(\\theta, \\phi) } \\quad (2.35) $$\n",
    "\n",
    "### For the ground state of hydrogen $(Z = 1)$, we have $(n, l, m) = (1, 0, 0)$. Having zero angular momentum the associated wavefunction has no angular dependence. The normalized wavefunction is\n",
    "## $$ \\psi_{100}(r, \\theta, \\phi) = \\frac{1}{\\sqrt{\\pi a_0^3}}e^{-\\frac{r}{a_0}} \\quad (2.36) $$\n",
    "\n",
    "### For normalized hydrogen wavefunctions at $n = 2$ and $n = 3$ see [http://hyperphysics.phy-astr.gsu.edu/hbase/quantum/hydwf.html](http://hyperphysics.phy-astr.gsu.edu/hbase/quantum/hydwf.html)"
   ]
  },
  {
   "cell_type": "markdown",
   "id": "7145b3ee-b78b-447f-9b8a-6dc85a9f7a3a",
   "metadata": {},
   "source": []
  }
 ],
 "metadata": {
  "kernelspec": {
   "display_name": "Python 3 (ipykernel)",
   "language": "python",
   "name": "python3"
  },
  "language_info": {
   "codemirror_mode": {
    "name": "ipython",
    "version": 3
   },
   "file_extension": ".py",
   "mimetype": "text/x-python",
   "name": "python",
   "nbconvert_exporter": "python",
   "pygments_lexer": "ipython3",
   "version": "3.8.13"
  }
 },
 "nbformat": 4,
 "nbformat_minor": 5
}
