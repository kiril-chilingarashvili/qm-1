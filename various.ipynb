{
 "cells": [
  {
   "cell_type": "markdown",
   "id": "0118d8f0-ed2c-4fb5-993b-df9bca52227f",
   "metadata": {},
   "source": [
    "# Various"
   ]
  },
  {
   "cell_type": "markdown",
   "id": "41ec694e-b612-4e7e-8e82-dc51c3e8eb26",
   "metadata": {},
   "source": [
    "## $$ \\mathop{Re}(iz) = -\\mathop{Im}(z) $$\n",
    "## $$ e^{i\\alpha} - e^{-i\\alpha} = \\cos(\\alpha)-\\cos(-\\alpha)+i\\sin(\\alpha)-i\\sin(-\\alpha) = 2i\\sin(\\alpha) $$"
   ]
  },
  {
   "cell_type": "markdown",
   "id": "f679e47d-59bf-48ae-8f93-0b4b8d7c1cb0",
   "metadata": {},
   "source": []
  }
 ],
 "metadata": {
  "kernelspec": {
   "display_name": "Python 3",
   "language": "python",
   "name": "python3"
  },
  "language_info": {
   "codemirror_mode": {
    "name": "ipython",
    "version": 3
   },
   "file_extension": ".py",
   "mimetype": "text/x-python",
   "name": "python",
   "nbconvert_exporter": "python",
   "pygments_lexer": "ipython3",
   "version": "3.8.8"
  }
 },
 "nbformat": 4,
 "nbformat_minor": 5
}
