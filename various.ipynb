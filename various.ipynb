{
 "cells": [
  {
   "cell_type": "markdown",
   "id": "0118d8f0-ed2c-4fb5-993b-df9bca52227f",
   "metadata": {},
   "source": [
    "# Various"
   ]
  },
  {
   "cell_type": "markdown",
   "id": "41ec694e-b612-4e7e-8e82-dc51c3e8eb26",
   "metadata": {},
   "source": [
    "## $$ \\mathop{Re}(iz) = -\\mathop{Im}(z) $$\n",
    "## $$ e^{i\\alpha} - e^{-i\\alpha} = \\cos(\\alpha)-\\cos(-\\alpha)+i\\sin(\\alpha)-i\\sin(-\\alpha) = 2i\\sin(\\alpha) $$\n",
    "## $$ p_\\gamma = \\frac{E_\\gamma}{c} = \\frac{h\\nu}{c} = \\frac{h}{\\lambda} $$\n",
    "## $$ \\nu = \\frac{c}{\\lambda} $$\n",
    "## $$ E^2 - p^2c^2 = m^2 c^4 $$\n",
    "## $$ \\lambda_C = \\frac{2\\pi \\hbar c}{m c^2} $$\n",
    "## $$ mc^2 = h\\nu $$\n",
    "## $$ E^2 - p^2c^2 = m^2 c^4 \\quad (3.2.13) $$\n",
    "## $$ E = \\frac{mc^2}{\\sqrt{1-\\frac{v^2}{c^2}}},\\quad \\vec{p} = \\frac{m\\vec{v}}{\\sqrt{1-\\frac{v^2}{c^2}}} \\quad (3.2.14) $$\n",
    "## $$ \\boxed{\\hat{p} \\equiv \\frac{\\hbar}{i} \\frac{\\partial}{\\partial x}} \\quad (5.1.4) $$\n",
    "## $$ \\boxed{ \\hat{E} \\equiv \\frac{\\hat{p}^2}{2m} = -\\frac{\\hbar^2}{2m}\\frac{\\partial^2}{\\partial x^2} } \\quad(1.10) $$\n",
    "## $$ \\boxed{i\\hbar \\frac{\\partial}{\\partial t} \\Psi(x,t) = -\\frac{\\hbar^2}{2m} \\frac{\\partial^2}{\\partial x^2} \\Psi(x,t) } \\quad (5.1.11) $$\n",
    "## $$ \\boxed{i\\hbar \\frac{\\partial}{\\partial t} \\Psi(x,t) = \\hat{E} \\Psi(x,t)) } \\quad (1.12) $$"
   ]
  },
  {
   "cell_type": "markdown",
   "id": "f679e47d-59bf-48ae-8f93-0b4b8d7c1cb0",
   "metadata": {},
   "source": [
    "# Constants"
   ]
  },
  {
   "cell_type": "markdown",
   "id": "50a338bd-7526-4d3f-b36b-236329d0f788",
   "metadata": {},
   "source": [
    "## $$ \\hbar c \\approx 197.33 \\mathop{MeV}\\cdot \\mathop{fm} $$\n",
    "## $$ h \\approx 6.63 \\times 10^{-34} J\\cdot s $$\n",
    "## $$ \\hbar = \\frac{h}{2\\pi} = 6.5821 \\times 10^{-16} \\mathop{eV} \\mathop{s} $$\n",
    "## $$ \\alpha = \\frac{e^2}{\\hbar c} \\approx \\frac{1}{137} $$\n",
    "## $$ E_e = m_e c^2 \\approx 0.511 \\mathop{MeV} $$\n",
    "## $$ c = 2.99792458 \\times 10^{10} \\frac{\\mathop{cm}}{\\mathop{s}} = 2.99792458 \\times 10^{23} \\frac{\\mathop{fm}}{\\mathop{s}} $$\n",
    "## $$ m_e = 0.511 \\frac{\\mathop{MeV}}{c^2} $$\n",
    "## $$ m_p = 938.272 \\frac{\\mathop{MeV}}{c^2} $$"
   ]
  },
  {
   "cell_type": "markdown",
   "id": "ef778840-dd35-4146-90bf-8a286d3dd3be",
   "metadata": {},
   "source": []
  }
 ],
 "metadata": {
  "kernelspec": {
   "display_name": "Python 3",
   "language": "python",
   "name": "python3"
  },
  "language_info": {
   "codemirror_mode": {
    "name": "ipython",
    "version": 3
   },
   "file_extension": ".py",
   "mimetype": "text/x-python",
   "name": "python",
   "nbconvert_exporter": "python",
   "pygments_lexer": "ipython3",
   "version": "3.6.15"
  }
 },
 "nbformat": 4,
 "nbformat_minor": 5
}
