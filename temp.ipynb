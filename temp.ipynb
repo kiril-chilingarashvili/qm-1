{
 "cells": [
  {
   "cell_type": "code",
   "execution_count": 1,
   "id": "9cf85e9d-0f59-42f1-9bb6-0b25090607ce",
   "metadata": {},
   "outputs": [
    {
     "name": "stdout",
     "output_type": "stream",
     "text": [
      "4\n",
      "7\n",
      "13\n"
     ]
    }
   ],
   "source": [
    "def count_ways(n: int) -> int:\n",
    "  # Create an array to store the number of ways to reach each stair\n",
    "  ways = [0] * (n + 1)\n",
    "  \n",
    "  # Initialize the base case: there is only one way to reach the first stair\n",
    "  ways[0] = 1\n",
    "  \n",
    "  # Loop through each stair\n",
    "  for i in range(1, n + 1):\n",
    "    # Add the number of ways to reach the previous stairs\n",
    "    ways[i] += ways[i - 1]\n",
    "    \n",
    "    # If we are on the second or third stair, add the number of ways to reach the stair two or three steps behind\n",
    "    if i >= 2:\n",
    "      ways[i] += ways[i - 2]\n",
    "    if i >= 3:\n",
    "      ways[i] += ways[i - 3]\n",
    "      \n",
    "  # Return the number of ways to reach the nth stair\n",
    "  return ways[n]\n",
    "print(count_ways(3))  # Output: 4\n",
    "print(count_ways(4))  # Output: 7\n",
    "print(count_ways(5))  # Output: 13"
   ]
  },
  {
   "cell_type": "code",
   "execution_count": null,
   "id": "e841fff0-5977-445b-be4f-0b2799cc3838",
   "metadata": {},
   "outputs": [],
   "source": []
  }
 ],
 "metadata": {
  "kernelspec": {
   "display_name": "Python 3 (ipykernel)",
   "language": "python",
   "name": "python3"
  },
  "language_info": {
   "codemirror_mode": {
    "name": "ipython",
    "version": 3
   },
   "file_extension": ".py",
   "mimetype": "text/x-python",
   "name": "python",
   "nbconvert_exporter": "python",
   "pygments_lexer": "ipython3",
   "version": "3.8.13"
  }
 },
 "nbformat": 4,
 "nbformat_minor": 5
}
