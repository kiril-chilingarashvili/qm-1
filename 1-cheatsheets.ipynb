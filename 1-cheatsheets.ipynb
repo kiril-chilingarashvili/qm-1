{
 "cells": [
  {
   "cell_type": "markdown",
   "id": "3b0f62fb-46c1-425d-99a4-bf36ff5494fb",
   "metadata": {},
   "source": [
    "# Lecture 1: Overview of quantum mechanics"
   ]
  },
  {
   "cell_type": "markdown",
   "id": "03ae5de3-8732-4a24-9734-e5b512fd4f64",
   "metadata": {},
   "source": [
    "## Key Features of Quantum Mechanics"
   ]
  },
  {
   "cell_type": "markdown",
   "id": "ec334596-c6fb-4d49-b9cc-c625c8909279",
   "metadata": {},
   "source": [
    "### Quantum mechanics is now almost one-hundred years old, but we are still discovering some of its surprising features and it remains the subject of much investigation and speculation. The framework of quantum mechanics is a rich and elegant extension of the framework of classical physics. It is also counterintuitive and almost paradoxical.\n",
    "\n",
    "### Quantum physics has replaced classical physics as the correct fundamental description of our physიcal universe. It is used routinely to describe most phenomena that occur at short distances. Quantum physics is the result of applying the framework of quantum mechanics to different physical phenomena. We thus have Quantum Electrodynamics, when quantum mechanics is applied to electromagnetism, Quantum Optics, when it is applied to light and optical devices, or Quantum Gravity, when it is applied to gravitation. Quantum mechanics indeed provides a remarkably coherent and elegant framework. The era of quantum physics begins in 1925, with the discoveries of Schrodinger and Heisenberg. The seeds for these discoveries were planted by Planck, Einstein, Bohr, de Broglie, and others. It is a tribute to human imagination that we have been able to discover the counterintuitive and abstract set of rules that define quantum mechanics. Here we aim to explain and provide some perspective on the main features of this framework.\n",
    "### We will begin by discussing the property of linearity, which quantum mechanics shares with elec- tromagnetic theory. This property tells us what kind of theory quantum mechanics is and why, it could be argued, it is simpler than classical mechanics. We then turn to photons, the particles of light. We use photons and polarizers to explain why quantum physics is not deterministic and, in contrast with classical physics, the results of some experiments cannot be predicted. Quantum mechanics is a framework in which we can only predict the probabilities for the various outcomes of any given experiment. Our next subject is quantum superpositions, in which a quantum object somehow manages to exist simultaneously in two mutually incompatible states. A quantum light-bulb, for example, could be in a state in which it is both on and off at the same time!\n"
   ]
  },
  {
   "cell_type": "markdown",
   "id": "864981b8-dda9-4839-be0b-072c63db7381",
   "metadata": {},
   "source": [
    "## Linearity of the equations of motion\n",
    "\n",
    "### In physics a theory is usually described by a set of equations for some quantities called the **dynamical variables** of the theory. After writing a theory, the most important task is finding solutions of the equations. A solution of the equations describes a possible reality, according to the theory. Because an expanding universe is a solution of Albert Einstein’s gravitational equations, for example, it follows that an expanding universe is possible, according to this theory. A single theory may have many solutions, each describing a possible reality.\n",
    "   \n",
    "### There are linear theories and nonlinear theories. Nonlinear theories are more complex than linear theories. In a linear theory a remarkable fact takes place: if you have two solutions you obtain a third solution of the theory simply by adding the two solutions. An example of a beautiful linear theory is Maxwell’s theory of electromagnetism, a theory that governs the behavior of electric and magnetic fields. A field, as you probably know, is a quantity whose values may depend on position and on time. A simple solution of this theory describes an electromagnetic wave propagating in a given direction. Another simple solution could describe an electromagnetic wave propagating in a different direction. Because the theory is linear, having the two waves propagating simultaneously, each in its own direction and without affecting each other, is a new and consistent solution. The sum is a solution in the sense that the electric field in the new solution is the sum of the electric field in the first solution plus the electric field in the second solution. The same goes for the magnetic field: the magnetic field in the new solution is the sum of the magnetic field in the first solution plus the magnetic field in the second solution. In fact you can add any number of solutions to still find a solution. Even if this sounds esoteric, you are totally familiar with it. The air around you is full of electromagnetic waves, each one propagating oblivious to the other ones. There are the waves of thousands of cell phones, the waves carrying hundreds of wireless internet messages, the waves from a plethora of radio-stations, TV stations, and many, many more. Today, a single transatlantic cable can carry simultaneously millions of telephone calls, together with huge amounts video and internet data. All of that courtesy of linearity.\n",
    "\n",
    "### More concretely, we say that Maxwell’s equations are linear equations. A solution of Maxwell’s equation is described by an electric field $E$ a magnetic field $B$, a charge density $\\rho$ and a current density $J$, all collectively denoted as $(E, B, \\rho, J)$. This collection of fields and sources satisfy Maxwell’s equations. Linearity implies that if $(E, B, \\rho, J)$ is a solution so is $(\\alpha E, \\alpha B, \\alpha \\rho, \\alpha J)$, where all fields and sources have been multiplied by the constant $\\alpha$. Given two solutions\n",
    "## $$ (E_1, B_1, \\rho_1, J_1),\\quad \\text{and}\\quad (E_2, B_2, \\rho_2, J_2) $$\n",
    "\n",
    "### linearity also implies that we can obtain a new solution by adding them\n",
    "## $$ (E_1 + E_2, B_1 + B_2, \\rho_1 + \\rho_2, J_1 + J_2) $$\n",
    "\n",
    "### The new solution may be called the superposition of the two original solutions.\n",
    "\n",
    "### It is not hard to explain what is, in general, a linear equation or a linear set of equations. Consider the equation\n",
    "## $$ Lu = 0 $$\n",
    "\n",
    "### where, schematically, $u$ denotes the unknown. The unknown may be a number, or a function of time, a function of space, a function of time and space, essentially anything unknown! In fact, $u$ could represent a collection of unknowns, in which case we would replace $u$ above by $u_1, u_2, \\ldots$. The symbol $L$ denotes a linear operator, an object that satisfies the following two properties\n",
    "## $$ L(u_1 + u_2) = Lu_1 + Lu_2, \\quad L(\\alpha u) = \\alpha L u $$\n",
    "\n",
    "### where $\\alpha$ is a number. Note that these conditions imply that\n",
    "## $$ L(\\alpha u_1 + \\beta u_2) = \\alpha L u_1 + \\beta L u_2 $$\n",
    "\n",
    "### showing that if $u_1$ is a solution $(Lu_1 = 0)$ and $u_2$ is a solution $(Lu_2 = 0)$ then $\\alpha u_1 + \\beta u_2$ is also a solution. We call $\\alpha u_1 + \\beta u_2$ the **general superposition** of the solutions $u_1$ and $u_2$. An example may help. Consider the equation\n",
    "## $$ \\frac{du}{dt} + \\frac{1}{\\tau} u = 0 $$\n",
    "\n",
    "### where $\\tau$ is a constant with units of time. This is, in fact, a linear differential equation, and takes the form $Lu = 0$ if we define\n",
    "## $$ Lu \\equiv \\frac{du}{dt} + \\frac{1}{\\tau} u \\quad (1.7) $$\n",
    "\n",
    "### **Exercise 1**. \n",
    "### Verify that (1.7) satisfies the conditions for a linear operator.\n",
    "\n",
    "### Einstein’s theory of general relativity is a nonlinear theory whose dynamical variable is a gravitational field, the field that describes, for example, how planets move around a star. Being a nonlinear theory, you simply cannot add the gravitational fields of different solutions to find a new solution. This makes Einstein’s theory rather complicated, by all accounts much more complicated than Maxwell theory. In fact, classical mechanics, as invented mostly by Isaac Newton, is also a nonlinear theory! In classical mechanics the dynamical variables are positions and velocities of particles, acted by forces. There is no general way to use two solutions to build a third.\n",
    "   \n",
    "### Indeed, consider the equation of motion for a particle on a line under the influence of a time-independent potential $V(x)$, which is in general an arbitrary function of $x$. The dynamical variable in this problem is $x(t)$, the position as a function of time. Letting $V'$ denote the derivative of $V$ with respect to its argument, Newton’s second law takes the form\n",
    "## $$ m\\frac{d^2 x(t)}{dt^2} = -V'(x(t)) \\quad (1.8) $$\n",
    "\n",
    "### The left-hand side is the mass times acceleration and the right hand side is the force experienced by the particle in the potential. It is probably worth to emphasize that the right hand side is the function $V'(x)$ evaluated for $x$ set equal to $x(t)$:\n",
    "## $$ V'(x(t)) \\equiv \\left. \\frac{\\partial V(x)}{\\partial x} \\right|_{x=x(t)} \\quad (1.9)$$\n",
    "\n",
    "### While we could have used here an ordinary derivative, we wrote a partial derivative as is commonly done for the general case of time dependent potentials. The reason equation (1.8) is not a linear equation is that the function $V'(x)$ is not linear. In general, for arbitrary functions $u$ and $v$ we expect\n",
    "\n",
    "## $$ V'(au) \\neq a V'(u),\\quad \\text{and}\\quad V'(u+v) \\neq V'(u) + V'(v) \\quad (1.10) $$\n",
    "\n",
    "### As a result given a solution $x(t)$, the scaled solution $\\alpha x(t)$ is not expected to be a solution. Given two solutions $x_1(t)$ and $x_2(t)$ then $x_1(t) + x_2(t)$ is not guaranteed to be a solution either.\n",
    "\n",
    "### **Exercise**. \n",
    "### What is the most general potential $V(x)$ for which the equation of motion for $x(t)$ is linear?\n",
    "\n",
    "### Quantum mechanics is a linear theory. The signature equation in this theory, the so-called Schrodinger equation is a linear equation for a quantity called the **wavefunction** and it determines its time evolution. The wavefunction is the dynamical variable in quantum mechanics but, curiously, its physical interpretation was not clear to Erwin Schrodinger when he wrote the equation in 1925. It was Max Born, who months later suggested that the wavefunction encodes probabilities. This was the correct physical interpretation, but it was thoroughly disliked by many, including Schrodinger, who remained unhappy about it for the rest of his life. The linearity of quantum mechanics implies a profound simplicity. In some sense quantum mechanics is simpler than classical mechanics. In quantum mechanics solutions can be added to form new solutions.\n",
    "\n",
    "### The wavefunction $\\Psi$ depends on time and may also depend on space. The Schrodinger equation (SE) is a partial differential equation that takes the form\n",
    "## $$ i\\hbar \\frac{\\partial \\Psi}{\\partial t} = \\hat{H} \\Psi \\quad (1.11)  $$\n",
    "\n",
    "### where the **Hamiltonian** (or **energy operator**) $\\hat{H}$ is a linear operator that can act on wavefunctions:\n",
    "## $$ \\hat{H}(a \\Psi) = a \\hat{H} \\Psi, \\quad \\hat{H}(\\Psi_1+\\Psi_2) = \\hat{H}(\\Psi_1) + \\hat{H}(\\Psi_2) \\quad (1.12) $$\n",
    "\n",
    "### with $a$ a constant that in fact need not be real; it can be a complex number. Of course, $\\hat{H}$ itself does not depend on the wavefunction! To check that the Schrodinger equation is linear we cast it in the form $L\\Psi = 0$ with $L$ defined as\n",
    "## $$ L\\Psi \\equiv i \\hbar \\frac{\\partial \\Psi}{\\partial t} - \\hat{H} \\Psi \\quad (1.13) $$\n",
    "\n",
    "### It is now a simple matter to verify that $L$ is a linear operator. Physically this means that if $\\Psi_1$ and $\\Psi_2$ are solutions to the Schrodinger equation, then so is the superposition $\\alpha \\Psi_1 + \\beta \\Psi_2$, where $\\alpha$ and $\\beta$ are both complex numbers, i.e. $(\\alpha, \\beta \\in \\mathbb{C})$"
   ]
  },
  {
   "cell_type": "markdown",
   "id": "6000d779-fa2d-43ea-b4ab-8e5ed78a7d88",
   "metadata": {},
   "source": []
  }
 ],
 "metadata": {
  "kernelspec": {
   "display_name": "Python 3",
   "language": "python",
   "name": "python3"
  },
  "language_info": {
   "codemirror_mode": {
    "name": "ipython",
    "version": 3
   },
   "file_extension": ".py",
   "mimetype": "text/x-python",
   "name": "python",
   "nbconvert_exporter": "python",
   "pygments_lexer": "ipython3",
   "version": "3.6.15"
  }
 },
 "nbformat": 4,
 "nbformat_minor": 5
}
