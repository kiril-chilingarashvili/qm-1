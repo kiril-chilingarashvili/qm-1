{
 "cells": [
  {
   "cell_type": "markdown",
   "id": "fd67fb18-5ecd-4e26-b99f-f04eb9a1f8c8",
   "metadata": {},
   "source": [
    "# Lecture 18: Angular momentum, Legendre equation, Spherical harmonics, Radial equation"
   ]
  },
  {
   "cell_type": "markdown",
   "id": "2534532d-bf59-4db8-a869-29c9c7d6ecfa",
   "metadata": {},
   "source": []
  }
 ],
 "metadata": {
  "kernelspec": {
   "display_name": "Python 3",
   "language": "python",
   "name": "python3"
  },
  "language_info": {
   "codemirror_mode": {
    "name": "ipython",
    "version": 3
   },
   "file_extension": ".py",
   "mimetype": "text/x-python",
   "name": "python",
   "nbconvert_exporter": "python",
   "pygments_lexer": "ipython3",
   "version": "3.8.8"
  }
 },
 "nbformat": 4,
 "nbformat_minor": 5
}
