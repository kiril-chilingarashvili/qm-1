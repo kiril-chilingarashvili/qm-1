{
 "cells": [
  {
   "cell_type": "markdown",
   "id": "0118d8f0-ed2c-4fb5-993b-df9bca52227f",
   "metadata": {},
   "source": [
    "# Various"
   ]
  },
  {
   "cell_type": "markdown",
   "id": "41ec694e-b612-4e7e-8e82-dc51c3e8eb26",
   "metadata": {},
   "source": [
    "## $$ \\mathop{Re}(iz) = -\\mathop{Im}(z) $$\n",
    "## $$ e^{i\\alpha} - e^{-i\\alpha} = \\cos(\\alpha)-\\cos(-\\alpha)+i\\sin(\\alpha)-i\\sin(-\\alpha) = 2i\\sin(\\alpha) $$\n",
    "## $$ p_\\gamma = \\frac{E_\\gamma}{c} = \\frac{h\\nu}{c} = \\frac{h}{\\lambda} $$\n",
    "## $$ \\nu = \\frac{c}{\\lambda} $$\n",
    "## $$ E^2 - p^2c^2 = m^2 c^4 $$\n",
    "## $$ \\lambda_C = \\frac{2\\pi \\hbar c}{m c^2} $$\n",
    "## $$ mc^2 = h\\nu $$\n",
    "## $$ E^2 - p^2c^2 = m^2 c^4 \\quad (3.2.13) $$\n",
    "## $$ E = \\frac{mc^2}{\\sqrt{1-\\frac{v^2}{c^2}}},\\quad \\vec{p} = \\frac{m\\vec{v}}{\\sqrt{1-\\frac{v^2}{c^2}}} \\quad (3.2.14) $$\n",
    "## $$ \\boxed{\\hat{p} \\equiv \\frac{\\hbar}{i} \\frac{\\partial}{\\partial x}} \\quad (5.1.4) $$\n",
    "## $$ \\boxed{ \\hat{E} \\equiv \\frac{\\hat{p}^2}{2m} = -\\frac{\\hbar^2}{2m}\\frac{\\partial^2}{\\partial x^2} } \\quad(5.1.10) $$\n",
    "### Free particle Schrodinger equation:\n",
    "## $$ \\boxed{i\\hbar \\frac{\\partial}{\\partial t} \\Psi(x,t) = -\\frac{\\hbar^2}{2m} \\frac{\\partial^2}{\\partial x^2} \\Psi(x,t) } \\quad \\quad (5.1.11) $$\n",
    "## $$ \\boxed{i\\hbar \\frac{\\partial}{\\partial t} \\Psi(x,t) = \\hat{E} \\Psi(x,t)) } \\quad (5.1.12) $$\n",
    "## $$ \\Psi(x,0) = \\int \\mathop{dk} \\Phi(k) e^{ikx} \\quad (5.1.18) $$\n",
    "## $$ \\boxed{ i\\hbar \\frac{\\partial}{\\partial t} \\Psi(x, t) = \\left( -\\frac{\\hbar^2}{2m} \\frac{\\partial^2}{\\partial x^2} + V(x, t) \\right) \\Psi(x, t) } \\quad (5.2.3) $$\n",
    "## $$ \\boxed{ \\hat{H} \\equiv -\\frac{\\hbar^2}{2m} \\frac{\\partial^2}{\\partial x^2} + V(x, t) } \\quad (5.2.4) $$\n",
    "## $$ \\boxed{ i\\hbar \\frac{\\partial}{\\partial t} \\Psi(x, t) = \\hat{H} \\Psi(x, t) } \\quad (5.2.5) $$\n",
    "## $$ \\boxed{i\\hbar \\frac{\\partial}{\\partial t}\\Psi(\\vec{x}, t) = \\left( -\\frac{\\hbar^2}{2m} \\nabla^2 + V(\\vec{x}, t) \\right) \\Psi(\\vec{x}, t) } \\quad (5.2.28) $$\n",
    "## $$ \\begin{align}  \\frac{\\partial }{\\partial x'} & = \\frac{\\partial x}{\\partial x'} \\frac{\\partial }{\\partial x} + \\frac{\\partial t}{\\partial x'} \\frac{\\partial }{\\partial t} \\\\ \\frac{\\partial }{\\partial t'} & = \\frac{\\partial x}{\\partial t'} \\frac{\\partial }{\\partial x} + \\frac{\\partial t}{\\partial t'} \\frac{\\partial }{\\partial t} \\end{align} $$"
   ]
  },
  {
   "cell_type": "markdown",
   "id": "f679e47d-59bf-48ae-8f93-0b4b8d7c1cb0",
   "metadata": {},
   "source": [
    "# Constants"
   ]
  },
  {
   "cell_type": "markdown",
   "id": "50a338bd-7526-4d3f-b36b-236329d0f788",
   "metadata": {},
   "source": [
    "## $$ \\hbar c \\approx 197.33 \\mathop{MeV}\\cdot \\mathop{fm} $$\n",
    "## $$ h \\approx 6.63 \\times 10^{-34} J\\cdot s $$\n",
    "## $$ \\hbar = \\frac{h}{2\\pi} = 6.5821 \\times 10^{-16} \\mathop{eV} \\mathop{s} $$\n",
    "## $$ \\alpha = \\frac{e^2}{\\hbar c} \\approx \\frac{1}{137} $$\n",
    "## $$ E_e = m_e c^2 \\approx 0.511 \\mathop{MeV} $$\n",
    "## $$ c = 2.99792458 \\times 10^{10} \\frac{\\mathop{cm}}{\\mathop{s}} = 2.99792458 \\times 10^{23} \\frac{\\mathop{fm}}{\\mathop{s}} $$\n",
    "## $$ m_e = 0.511 \\frac{\\mathop{MeV}}{c^2} $$\n",
    "## $$ m_p = 938.272 \\frac{\\mathop{MeV}}{c^2} $$"
   ]
  },
  {
   "cell_type": "markdown",
   "id": "ef778840-dd35-4146-90bf-8a286d3dd3be",
   "metadata": {},
   "source": [
    "## Useful integrals:\n",
    "## $$ \\int_{-\\infty}^{\\infty} \\mathop{dx} e^{-x^2} = \\sqrt{\\pi} $$\n",
    "## $$ \\int_{-\\infty}^{\\infty} \\mathop{dx} x e^{-x^2} = 0 $$\n",
    "## $$ \\int_{-\\infty}^{\\infty} \\mathop{dx} x^2 e^{-x^2} = \\frac{\\sqrt{\\pi}}{2} $$\n",
    "## $$ \\begin{align}  \\int _{-\\infty }^{\\infty } \\mathop{dx} e^{\\left(-ax^2+bx \\right)}=\\sqrt {\\frac{\\pi }{a}} e^{\\left(\\frac{b^2}{4a}\\right)} \\end{align} $$"
   ]
  },
  {
   "cell_type": "markdown",
   "id": "c9fb2a7d-dfc1-4843-8a79-28713743d1cb",
   "metadata": {},
   "source": [
    "## Inverse Euler's formulas\n",
    "## $$ \\cos(\\omega t) = \\frac{e^{i\\omega t}+e^{-i\\omega t}}{2} $$\n",
    "## $$ \\sin(\\omega t) = \\frac{e^{i\\omega t}-e^{-i\\omega t}}{2i} $$"
   ]
  },
  {
   "cell_type": "markdown",
   "id": "d8f74f44-78ee-47a3-9be6-784af99bd426",
   "metadata": {},
   "source": [
    "### Commutator satisfies the following properties:\n",
    "## $$ [A, B] = - [B, A]\\quad(8.3.38)$$\n",
    "## $$ [A, A] = 0\\quad(8.3.39)$$\n",
    "## $$ [A, B + C] = [A, B] + [A, C]\\quad(8.3.40)$$\n",
    "## $$ [A, BC] = [A, B] C + B [A, C]\\quad(8.3.41)$$\n",
    "## $$ [AB, C] = A [B, C] + [A, C] B\\quad(8.3.42)$$\n",
    "## $$ 0 = [A, [B, C]] + [B, [C, A]] + [C, [A, B]]\\quad(8.3.43)$$"
   ]
  },
  {
   "cell_type": "markdown",
   "id": "6c85a926-747b-4ea5-8910-31f53da5b232",
   "metadata": {},
   "source": [
    "## Useful \n",
    "\n",
    "## $$ \\hat{r}\\cdot \\nabla = \\frac{\\partial}{\\partial r} $$"
   ]
  },
  {
   "cell_type": "markdown",
   "id": "6d619aec-eb86-4fab-9024-41080714b4dd",
   "metadata": {},
   "source": [
    "## Useful Commutators\n",
    "\n",
    "## $$ [\\hat{x}, \\hat{p}^2] = 2i\\hbar \\hat{p} $$\n",
    "## $$ [\\hat{x}, \\hat{x}\\hat{p}] = i\\hbar \\hat{x} $$"
   ]
  },
  {
   "cell_type": "markdown",
   "id": "ae5da136-5c52-4707-8cc0-069ecbafbedd",
   "metadata": {},
   "source": []
  }
 ],
 "metadata": {
  "kernelspec": {
   "display_name": "Python 3 (ipykernel)",
   "language": "python",
   "name": "python3"
  },
  "language_info": {
   "codemirror_mode": {
    "name": "ipython",
    "version": 3
   },
   "file_extension": ".py",
   "mimetype": "text/x-python",
   "name": "python",
   "nbconvert_exporter": "python",
   "pygments_lexer": "ipython3",
   "version": "3.8.13"
  }
 },
 "nbformat": 4,
 "nbformat_minor": 5
}
