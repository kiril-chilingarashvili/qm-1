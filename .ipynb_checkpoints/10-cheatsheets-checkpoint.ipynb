{
 "cells": [
  {
   "cell_type": "markdown",
   "id": "e7ff3933-303b-495a-9441-f6ed98720ad9",
   "metadata": {},
   "source": [
    "# Lecture 10: Stationary states, Particle on a circle"
   ]
  },
  {
   "cell_type": "markdown",
   "id": "7aaa95cb-008d-4272-8e2b-5d9782396e8d",
   "metadata": {},
   "source": []
  }
 ],
 "metadata": {
  "kernelspec": {
   "display_name": "Python 3 (ipykernel)",
   "language": "python",
   "name": "python3"
  },
  "language_info": {
   "codemirror_mode": {
    "name": "ipython",
    "version": 3
   },
   "file_extension": ".py",
   "mimetype": "text/x-python",
   "name": "python",
   "nbconvert_exporter": "python",
   "pygments_lexer": "ipython3",
   "version": "3.8.13"
  }
 },
 "nbformat": 4,
 "nbformat_minor": 5
}
