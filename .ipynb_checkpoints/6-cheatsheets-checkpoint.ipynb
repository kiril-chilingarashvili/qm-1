{
 "cells": [
  {
   "cell_type": "markdown",
   "id": "9231bf48-e7cf-4947-9c6a-c746b3b9badd",
   "metadata": {},
   "source": [
    "# Lecture 6: Probability density and current, Hermitian conjugation"
   ]
  },
  {
   "cell_type": "markdown",
   "id": "0722d7a8-0b2a-4ff9-80c8-bc3491d719b3",
   "metadata": {},
   "source": []
  }
 ],
 "metadata": {
  "kernelspec": {
   "display_name": "Python 3 (ipykernel)",
   "language": "python",
   "name": "python3"
  },
  "language_info": {
   "codemirror_mode": {
    "name": "ipython",
    "version": 3
   },
   "file_extension": ".py",
   "mimetype": "text/x-python",
   "name": "python",
   "nbconvert_exporter": "python",
   "pygments_lexer": "ipython3",
<<<<<<< HEAD
   "version": "3.7.12"
=======
   "version": "3.7.13"
>>>>>>> cf20ca2844faf95941d3f2dc1d54262c9bc8b5f5
  }
 },
 "nbformat": 4,
 "nbformat_minor": 5
}
