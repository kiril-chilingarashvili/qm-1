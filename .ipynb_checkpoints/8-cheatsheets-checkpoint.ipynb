{
 "cells": [
  {
   "cell_type": "markdown",
   "id": "9300914b-1ab0-4c56-98ff-dc9174e22b1a",
   "metadata": {},
   "source": [
    "# Lecture 8: Uncovering momentum space, Expectation values and their time dependence"
   ]
  },
  {
   "cell_type": "markdown",
   "id": "0a4118bb-7341-458a-af2e-7f389cba9804",
   "metadata": {},
   "source": []
  }
 ],
 "metadata": {
  "kernelspec": {
   "display_name": "Python 3",
   "language": "python",
   "name": "python3"
  },
  "language_info": {
   "codemirror_mode": {
    "name": "ipython",
    "version": 3
   },
   "file_extension": ".py",
   "mimetype": "text/x-python",
   "name": "python",
   "nbconvert_exporter": "python",
   "pygments_lexer": "ipython3",
   "version": "3.8.8"
  }
 },
 "nbformat": 4,
 "nbformat_minor": 5
}
