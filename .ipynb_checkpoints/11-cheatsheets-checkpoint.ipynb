{
 "cells": [
  {
   "cell_type": "markdown",
   "id": "80007530-3502-4fa3-8e62-651922332025",
   "metadata": {},
   "source": [
    "# Lecture 11: Infinite and finite square wells, Properties of bound eigenstates"
   ]
  },
  {
   "cell_type": "markdown",
   "id": "ca016db6-bcad-480e-8422-b9f447113f90",
   "metadata": {},
   "source": []
  }
 ],
 "metadata": {
  "kernelspec": {
   "display_name": "Python 3 (ipykernel)",
   "language": "python",
   "name": "python3"
  },
  "language_info": {
   "codemirror_mode": {
    "name": "ipython",
    "version": 3
   },
   "file_extension": ".py",
   "mimetype": "text/x-python",
   "name": "python",
   "nbconvert_exporter": "python",
   "pygments_lexer": "ipython3",
   "version": "3.8.13"
  }
 },
 "nbformat": 4,
 "nbformat_minor": 5
}
