{
 "cells": [
  {
   "cell_type": "markdown",
   "id": "7eafd31f-0c7a-4a36-a3e0-74fe9b840144",
   "metadata": {},
   "source": [
    "5 Entanglement\n",
    "When we consider superposition of states of two particles we can get the remarkable phenomenon called quantum mechanical entanglement. Entangled states of two particles are those in which we can’t speak separately of the state of each particle. The particles are bound together in a common\n",
    "\n",
    "state in which they are entangled with each other.\n",
    "Let us consider two non-interacting particles. Particle 1 could be in any of the states\n",
    "\n",
    "{ u1 , u2 , ...} ,\t(5.1)\n",
    "while particle 2 could be in any of the states\n",
    "\n",
    "{ v1 , v2 , ...}\t(5.2)\n",
    "It may seem reasonable to conclude that the state of the full system, including particle 1 and particle 2 would be specified by stating the state of particle 1 and the state of particle 2. If that would be the case the possible states would be written as\n",
    " ui ? vj ,\ti, j ? N ,\t(5.3)\n",
    "for some specific choice of i and j that specify the state of particle one and particle two, respectively. Here we have used the symbol ?, which means tensor product, to combine the two states into a single state for the whole system. We will study ? later, but for the time being we can think of it as a kind of product that distributes over addition and obeys simple rules, as follows\n",
    "(?1 u1 + ?2 u2 ) ? (?1 v1 + ?2 v2 ) =\t?1?1 u1 ? v1 + ?1?2 u1 ? v2 \n",
    "\n",
    "+ ? ? u  ? v  + ? ? u  ? v  .\n",
    "\n",
    "(5.4)\n",
    "\n",
    "\n",
    "The numbers can be moved across the ? but the order of the states must be preserved. The state on the left-hand side –expanded out on the right-hand side– is still of the type where we combine a state of the first particle (?1 u1 + ?2 u2 ) with a state of the second particle (?1 v1 + ?2 v2 ). Just like any one of the states listed in (5.3) this state is not entangled.\n",
    "Using the states in (5.3), however, we can construct more intriguing superpositions. Consider the\n",
    "following one\n",
    " u1 ? v1 + u2 ? v2 .\t(5.5)\n",
    "A state of two particles is said to be entangled if it cannot be written in the factorized form (· · · )?(· · · ) which allows us to describe the state by simply stating the state of each particle. We can easily see that the state (5.5) cannot be factorized. If it could it would have to be with a product as indicated in (5.4). Clearly, involving states like |u3) or |v3) that do not appear in (5.5) would not help. To determine the constants ?1, ?2, ?1, ?2 we compare the right hand side of (5.4) with our state and conclude that we need\n",
    "\n",
    "?1?1 = 1 ,\t?1?2 = 0 ,\t?2?1 = 0 ,\t?2?2 = 1 .\t(5.6)\n",
    "\n",
    "It is clear that there is no solution here. The second equation, for example, requires either ?1 or ?2 to be zero. Having ?1 = 0 contradicts the first equation, and having ?2 = 0 contradicts the last equation. This confirms that the state (5.5) is indeed an entangled state. There is no way to describe the state by specifying a state for each of the particles.\n",
    "\n",
    "   Let us illustrate the above discussion using electrons and their spin states. Consider a state of two electrons denoted as | ?) ? | ?). As the notation indicates, the first electron, described by the first arrow, is up along z while the second electron, described by the second arrow, is down along z (we omit the label z on the state for brevity). This is not an entangled state. Another possible state is\n",
    "   \n",
    "one where they are doing exactly the opposite: in | ?) ? | ?) the first electron is down and the second is up. This second state is also not entangled. It now follows that by superposition we can consider the state\n",
    "| ?) ? | ?) + | ?) ? | ?) .\t(5.7)\n",
    "This is a entangled state of the pair of electrons.\n",
    "Exercise. Show that the above state cannot be factorized and thus is indeed entangled.\n",
    "\n",
    "   In the state (5.7) the first electron is up along z if the second electron is down along z (first term), or the first electron is down along z if the second electron is up along z (second term). There is a correlation between the spins of the two particles; they always point in opposite directions. Imagine that the two entangled electrons are very far away from each other: Alice has one electron of the pair on planet earth and Bob has the other electron on the moon. Nothing we know is connecting these particles but nevertheless the states of the electrons are linked. Measurements we do on the separate particles exhibit correlations. Suppose Alice measures the spin of the electron on earth. If she finds it up along z, it means that the first summand in the above superposition is realized, because in that summand the first particle is up. As discussed before, the state of the two particles immediately becomes that of the first summand. This means that the electron on the moon will instantaneously go into the spin down-along-z configuration, something that could be confirmed by Bob, who is sitting in the moon with that particle in his lab. This effect on Bob’s electron happens before a message, carried with the speed of light, could reach the moon telling him that a measurement has been done by Alice on the earth particle and the result was spin up. Of course, experiments must be done with an ensemble that contains many pairs of particles, each pair in the same entangled state above. Half of the times the electron on earth will be found up, with the electron on the moon down and the other half of the times the electron on earth will be found down, with the electron on the moon up.\n",
    "Our friendly critic could now say, correctly, that such correlations between the measurements of\n",
    "spins along z could have been produced by preparing a conventional ensemble in which 50% of the pairs are in the state | ?) ? | ?) and the other 50% of the pairs are in the state | ?) ? | ?). Such objections were dealt with conclusively in 1964 by John Bell, who showed that if Alice and Bob are able to measure spin in three arbitrary directions, the correlations predicted by the quantum entangled state are different from the classical correlations of any conceivable conventional ensemble. Quantum correlations in entangled states are very subtle and it takes sophisticated experiments to show they are not reproducible as classical correlations. Indeed, experiments with entangled states have confirmed the existence of quantum correlations. The kind of instantaneous action at a distance associated with measurements on well-separated entangled particles does not lead to paradoxes nor, as it may seem, to contradictions with the ideas of special relativity. You cannot use quantum mechanical entangled states to send information faster than the speed of light.\n",
    "\n",
    "Sarah Geller transcribed Zwiebach’s handwritten notes to create the first LaTeX version of this docu- ment.\n",
    "\n",
    "MIT OpenCourseWare https://ocw.mit.edu\n",
    "\n",
    "\n",
    "\n",
    "8.04 Quantum Physics I\n",
    "Spring 2016\n",
    "\n",
    "\n",
    "\n",
    "For information about citing these materials or our Terms of Use, visit: https://ocw.mit.edu/terms."
   ]
  }
 ],
 "metadata": {
  "kernelspec": {
   "display_name": "Python 3 (ipykernel)",
   "language": "python",
   "name": "python3"
  },
  "language_info": {
   "codemirror_mode": {
    "name": "ipython",
    "version": 3
   },
   "file_extension": ".py",
   "mimetype": "text/x-python",
   "name": "python",
   "nbconvert_exporter": "python",
   "pygments_lexer": "ipython3",
   "version": "3.10.6"
  }
 },
 "nbformat": 4,
 "nbformat_minor": 5
}
