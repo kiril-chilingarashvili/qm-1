{
 "cells": [
  {
   "cell_type": "markdown",
   "id": "1c65fa67-59a4-4481-ba58-0a3da57beebc",
   "metadata": {},
   "source": [
    "# Lecture 12: Properties of 1D energy eigenstates, Qualitative properties of wavefunctions, Shooting method"
   ]
  },
  {
   "cell_type": "markdown",
   "id": "762189e2-d515-4a65-a9e7-7f3dcc5e7516",
   "metadata": {},
   "source": []
  }
 ],
 "metadata": {
  "kernelspec": {
   "display_name": "Python 3 (ipykernel)",
   "language": "python",
   "name": "python3"
  },
  "language_info": {
   "codemirror_mode": {
    "name": "ipython",
    "version": 3
   },
   "file_extension": ".py",
   "mimetype": "text/x-python",
   "name": "python",
   "nbconvert_exporter": "python",
   "pygments_lexer": "ipython3",
   "version": "3.8.13"
  }
 },
 "nbformat": 4,
 "nbformat_minor": 5
}
