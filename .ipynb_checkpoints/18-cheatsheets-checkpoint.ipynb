{
 "cells": [
  {
   "cell_type": "markdown",
   "id": "fd67fb18-5ecd-4e26-b99f-f04eb9a1f8c8",
   "metadata": {},
   "source": [
    "# Lecture 18: Angular momentum, Legendre equation, Spherical harmonics, Radial equation"
   ]
  },
  {
   "cell_type": "markdown",
   "id": "2534532d-bf59-4db8-a869-29c9c7d6ecfa",
   "metadata": {},
   "source": [
    "### 18.1 Scattering in One Dimension\n",
    "\n",
    "### Physicists learn a lot from scattering experiments. Rutherford learned about the structure of the atom by scattering alpha particles off thin layers of gold. We have elastic scattering if particles do not change type; this typically requires low energies. At high energies, scattering becomes quite complicated due to the creation of new particles.\n",
    "\n",
    "### The scattering of a particle off a fixed target is studied by working with a particle moving in a potential, the potential created by the target. Even in the case of particle collisions it is generally possible to study the problem using center of mass coordinates and, again, considering scattering in a potential.\n",
    "\n",
    "### Figure 1: A potential of range $R$. The potential vanishes for $x > R$ and is infinite for $x \\leq 0$.\n",
    "![img](img/img-18-01.png)\n",
    "\n",
    "### We consider (elastic) scattering in the general potential shown in Fig. 3. This potential is given by\n",
    "## $$ V(x) = \\left \\{ \\begin{array} {lcl} \\mathcal{V}(x), & & 0 < x < R \\\\ 0, & & x>R \\\\ \\infty, & & x<0 \\end{array} \\right. \\quad (1.1) $$\n",
    "\n",
    "### We call this a **finite range** potential, because the nontrivial part $V(x)$ of the potential does not extend beyond a distance $R$ from the origin. Moreover, we have an infinite potential wall at $x = 0$. Thus all the physics happens in $x > 0$ and incoming waves from $x \\to \\infty$ will be eventually reflected back, giving the physicist information about the potential. The restriction to $x > 0$ will also be useful when we later study the more physical case of scattering in three dimensions. In that case, when using spherical coordinates, we have $r > 0$ and most of the concepts to be learned here will apply.\n",
    "\n",
    "### Consider first the case where $\\mathcal{V}(x) = 0$, so that\n",
    "## $$ V(x) = \\left\\{ \\begin{array} {lcl} 0, & & x>0, \\\\ \\infty, & & x<0 \\end{array} \\right. \\quad (1.2) $$\n",
    "\n",
    "### as shown in Figure 2. We have a free particle, except for the wall at $x = 0$. \n",
    "### Figure 2: The zero potential and its energy eigenstates $\\phi(x) = \\sin(kx)$ are needed to compare with the $\\mathcal{V}(x) \\neq 0$ problem.\n",
    "![img](img/img-18-02.png)\n",
    "\n",
    "### The solutions can be constructed using linear combination of momentum eigenstates $e^{\\pm ikx}$ where\n",
    "## $$ k^2 = \\frac{2mE}{\\hbar^2}\\quad (1.3) $$\n",
    "\n",
    "### The solution has an incoming wave $e^{- ikx}$ and an outgoing wave $e^{ikx}$ combined in such a way that $\\phi(0) = 0$ as required by the presence of the wall:\n",
    "## $$ \\phi(x) \\sim e^{ikx} - e^{-ikx} \\quad (1.4) $$\n",
    "\n",
    "### Better yet, we can divide this solution by $2i$ to find\n",
    "## $$ \\boxed{\\phi(x) = -\\frac{e^{-ikx}}{2i}+\\frac{e^{ikx}}{2i} = \\sin(kx)} \\quad (1.5) $$\n",
    "\n",
    "### The incoming wave is the first term to the right of the first equal sign and the reflected wave is the second term. Both carry the same amount of probability flux, but in opposite directions."
   ]
  },
  {
   "cell_type": "markdown",
   "id": "f98d8cc8-7dd8-405f-a0a4-f4658b8bbe7f",
   "metadata": {},
   "source": [
    "### Now consider the case $\\mathcal{V}(x) \\neq 0$. This potential always acts over the finite range $0 < x < R$ and we will eventually be interested in computing the energy eigenstate wavefunction $\\psi(x)$ in this region. For the moment, however, let us consider $\\psi(x)$ in the region $x > R$. We will take the incoming wave to be the same one we had for the zero-potential solution $\\phi(x)$:\n",
    "## $$ \\text{Incoming wave}: \\quad -\\frac{e^{-ikx}}{2i} \\quad (1.6) $$\n",
    "\n",
    "### The outgoing wave to be added to the above requires an $e^{ikx}$, to have the same energy as the incoming wave solution. We now claim that the most general solution includes a phase factor, so we have\n",
    "## $$ \\text{Outgoing wave}: \\quad e^{2i\\delta}\\frac{e^{ikx}}{2i}, \\quad \\delta \\in \\mathbb{R} \\quad (1.7) $$\n",
    "\n",
    "### We note that the phase $\\delta$ cannot be a function of $x$: the free Schrodinger equation for $x > R$ only allows phases linear in $x$, but that would change the value of the momentum associated with the outgoing wave, which we have already argued must be $k$. Furthermore, $\\delta$ cannot be complex because then we would fail to have equality between incident and reflected probability fluxes. This condition requires that the norm-squared of the numbers multiplying the exponentials $e^{\\pm ikx}$ be the same. Thus, $\\delta$ is a real function that depends on the energy $E$ of the eigenstate and, of course, of the potential $V(x)$. \n",
    "\n",
    "### A natural range of $\\delta$ is from zero to $2\\pi$, but it will be easier to let it range through all of the reals $\\mathbb{R}$ in order to achieve a $\\delta$ that is a **continuous** function of the energy. Assembling together the incident and reflected components of the $x > R$ solution we get\n",
    "## $$ \\boxed{ \\psi(x) = \\frac{1}{2i} \\left( -e^{-ikx} + e^{ikx+2i\\delta} \\right) = e^{i\\delta} \\sin(kx+\\delta), \\quad \\text{for}\\quad x>R } \\quad (1.8) $$\n",
    "\n",
    "### This is called the **canonical solution** for $x > R$. For any particular feature of the solution $\\phi(x)$ that we might find at $kx = a_0$, giving $x = a_0/k$, we would find the same feature in $\\psi(x)$ at $k\\tilde{x} + \\delta = a_0$, giving $\\tilde{x} = a_0/k - \\delta/k$. For small $\\delta > 0$, the wave is **pulled** in by an amount $\\delta/k$, and the potential is exerting attraction. For small $\\delta < 0$, the wave is **pushed** out by an amount $|\\delta|/k$, and the potential is exerting repulsion. Note also that $\\delta$ and $\\delta \\pm \\pi$ give exactly the same $\\psi(x)$. This is simplest to see from the first form in $(1.8)$.\n",
    "\n",
    "### Figure 3: The solution $\\phi(x)$ for zero potential is shown with a dashed line. For $x > R$, the solution $\\psi(x)$ is shown as a continuous line. As compared to $\\phi(x)$, it is spatially shifted towards the origin by a distance $\\delta/k$.\n",
    "![img](img/img-18-03.png)\n",
    "\n",
    "### We define the **scattered wave** $\\psi_s(x)$ as the extra wave in the solution $\\psi(x)$ that would vanish for the case of zero potential, i.e.\n",
    "## $$ \\psi(x) = \\phi(x) + \\psi_s(x) \\quad (1.9) $$\n",
    "\n",
    "### Note that both $\\phi$ and $\\psi$ have the same incident wave, so $\\psi_s$ must be an outgoing wave. \n",
    "\n",
    "### We find, indeed\n",
    "## $$ \\psi_s(x) = \\psi(x) - \\phi(x) = -\\frac{e^{-ikx}}{2i}+\\frac{e^{ikx+2i\\delta}}{2i}+\\frac{e^{-ikx}}{2i} - \\frac{e^{ikx}}{2i} = \\frac{e^{ikx+2i\\delta}}{2i}-\\frac{e^{ikx}}{2i} \\quad (1.10) $$\n",
    "\n",
    "### therefore we get\n",
    "## $$ \\psi_s(x) = e^{i\\delta} \\sin(\\delta) e^{ikx} = A_s e^{ikx},\\quad \\text{with} \\quad A_s \\equiv e^{i\\delta} \\sin(\\delta) \\quad (1.11) $$\n",
    "\n",
    "### As is called the scattering amplitude, being the amplitude for the scattered wave. While we can’t normalize our states yet (for that we need wave packets) the probability to scatter is captured by\n",
    "## $$ |A_s|^2 = \\sin^2 (\\delta) \\quad (1.12) $$"
   ]
  },
  {
   "cell_type": "markdown",
   "id": "61916d3f-aabe-4d4e-8289-d19540ad2428",
   "metadata": {},
   "source": [
    "## 18.1.1 Time Delay\n",
    "\n",
    "### The quantity $\\delta(E)$ determines the time delay of a reflected wave packet, as compared to a wave packet that would encounter a zero potential. Indeed we claim that the delay is given by\n",
    "## $$ \\Delta t = 2\\hbar \\delta'(E) \\quad (1.13) $$\n",
    "\n",
    "### where prime denotes derivative with respect to the argument, and the evaluation is done for the central energy of the superposition that builds the wave packet. If $\\Delta t < 0$, then the particle spends less time near $x=0$, either because the potential is attractive and the particle speeds up, or because the potential is repulsive and the particle bounces before reaching $x = 0$. If $\\Delta t > 0$, then the particle spends more time near $x = 0$, typically because it slows down or gets temporarily trapped in the potential.\n",
    "\n",
    "### We write the incoming wave in the form\n",
    "## $$ \\psi_{\\text{inc}}(x,t) = \\int_{0}^{\\infty} \\mathop{dk} g(k) e^{-ikx} e^{-iE(k) t/\\hbar}, \\quad x>R \\quad (1.14) $$\n",
    "\n",
    "### where $g(k)$ is a real function peaked around $k = k_0$. We write the associated reflected wave by noticing that the above is a superposition of waves as in $(1.6)$ and the reflected wave must be the associated superposition of waves as in $(1.7)$. We must therefore change the sign of the momentum, change the overall sign and multiply by the phase $e^{2i\\delta}$:\n",
    "## $$ \\psi_{\\text{refl}}(x,t) = -\\int_{0}^{\\infty} \\mathop{dk} g(k) e^{ikx} e^{2i\\delta(k)}e^{-iE(k) t/\\hbar}, \\quad x>R \\quad (1.15) $$\n",
    "\n",
    "### We now use the stationary phase approximation to figure out the motion of the wave packet peak. We must have a stationary phase when $k = k_0$:\n",
    "## $$ \\begin{array} {rcl} \\displaystyle 0 & = & \\displaystyle \\left.\\frac{d}{dk} \\left( kx+2\\delta(k) - \\frac{E(k)t}{\\hbar} \\right)\\right|_{k_0} \\\\ \\, & = & \\displaystyle x + 2 \\left. \\frac{d\\delta}{dk}\\right|_{k_0} - \\left. \\frac{dE}{dk} \\right|_{k_0} \\frac{t}{\\hbar} \\\\ \\, & = & \\displaystyle x + 2 \\left. \\frac{dE}{dk}\\right|_{k_0}\\left. \\frac{d\\delta}{dE}\\right|_{E(k_0)} - \\left. \\frac{dE}{dk}\\right|_{k_0}\\frac{t}{\\hbar} \\\\ \\, & = & \\displaystyle x + \\frac{1}{\\hbar}\\left. \\frac{dE}{dk}\\right|_{k=k_0} \\left( 2\\hbar \\left. \\frac{d\\delta}{dE}\\right|_{E(k_0)} - t \\right) \\\\ \\, & = & \\displaystyle x+\\frac{\\hbar k_0}{m}\\left( 2\\hbar \\left. \\frac{d\\delta}{dE}\\right|_{E(k_0)} - t \\right) \\end{array} \\quad (1.16) $$\n",
    "\n",
    "### giving\n",
    "## $$ x = \\frac{\\hbar k_0}{m} \\left( t - 2\\hbar \\left. \\frac{d\\delta}{dE}\\right|_{E(k_0)} \\right) \\quad (1.17) $$\n",
    "\n",
    "### Here $\\hbar k_0 / m$ is the familiar group velocity $v_0$ of the wavepacket. If there had been no phase shift $\\delta$, say because $\\mathcal{V}(x) = 0$, there would be no time delay and the peak of the reflected wavepacket would follow the line $x = v_0 t$. \n",
    "\n",
    "### Therefore the delay, as claimed, is given by\n",
    "## $$ \\Delta t = 2\\hbar \\delta'(E(k_0))\\quad (1.18) $$"
   ]
  },
  {
   "cell_type": "markdown",
   "id": "77d2338b-8964-45e3-8324-6ce2edc6c88f",
   "metadata": {},
   "source": [
    "### We can compare the time delay to a natural time in the problem. \n",
    "\n",
    "### We first rewrite\n",
    "## $$ \\Delta t = 2\\hbar \\frac{dk}{dE}\\frac{d\\delta}{dk} = \\frac{2}{\\left( \\frac{1}{\\hbar}\\frac{dE}{dk} \\right)} \\frac{d\\delta}{dk} \\quad (1.19) $$\n",
    "\n",
    "### We know that\n",
    "## $$ \\frac{1}{\\hbar} \\frac{dE}{dk} = \\frac{d\\omega}{dk} = v_0 \\quad (1.20) $$\n",
    "\n",
    "### so we can then write\n",
    "## $$ \\frac{d\\delta}{dk} = \\frac{\\Delta t}{2} v_0 \\quad (1.21) $$\n",
    "\n",
    "### Multiplying this by $\\displaystyle \\frac{1}{R}$, we have\n",
    "## $$ \\boxed{ \\frac{1}{R} \\frac{d\\delta}{dk} = \\frac{\\Delta t}{\\left( \\frac{2R}{v_0} \\right)} = \\frac{\\text{delay}}{\\text{free transit time}} } \\quad (1.22) $$\n",
    "\n",
    "### The left-hand side is unit free, and the right hand side is the ratio of the time delay to the time the free particle would take to travel in and out of the range $R$."
   ]
  },
  {
   "cell_type": "markdown",
   "id": "8cfec064-9321-4ab4-9535-40391fbe6e08",
   "metadata": {},
   "source": [
    "## 18.1.2 An Example\n",
    "\n",
    "### Consider the following example in which we have an attractive potential:\n",
    "## $$ V(x) = \\left\\{ \\begin{array} {lcl} -V_0, & & 0 < x < a \\\\ 0, & & x>a \\\\ \\infty, & & x<0 \\end{array} \\right. \\quad (1.23) $$\n",
    "\n",
    "### The potential is shown in Figure 4 where the energy $E > 0$ of the energy eigenstate is indicated with a dashed line. The solution is of the form\n",
    "## $$ \\psi(x) = \\left \\{ \\begin{array} {lcl} e^{i\\delta} \\sin(kx+\\delta) & & x>a \\\\ A\\sin(k'x) & & 0 < x < a \\end{array} \\right. \\quad (1.24) $$\n",
    "\n",
    "### Figure 4: An attractive potential. We are interested in calculating the energy eigenstates for all $E > 0$.\n",
    "![img](img/img-18-04.png)\n",
    "\n",
    "### The solution in the region $x > a$ is simply the canonical solution, and the solution in the region $x < a$ follows because we must have $\\psi(0) = 0$. The constants $k$ and $k'$ are given by\n",
    "## $$ k^2 = \\frac{2mE}{\\hbar^2}, \\quad {k'}^2 = \\frac{2m(E+V_0)}{\\hbar^2} \\quad (1.25) $$"
   ]
  },
  {
   "cell_type": "markdown",
   "id": "a967da40-d0b5-4cc6-b8b3-7a520a8c1065",
   "metadata": {},
   "source": [
    "### Matching $\\pi$ and $\\psi'$ at $x = a$ we find the conditions that will eventually give us the unknown phase shift $\\delta$:\n",
    "## $$ A\\sin(k'a) = e^{i\\delta} \\sin(ka+\\delta) \\quad (1.26) $$\n",
    "## $$ k' A \\cos(k' a) = k e^{i\\delta} \\cos(ka + \\delta) \\quad (1.27) $$\n",
    "\n",
    "### Dividing the latter equation by the former, we reach\n",
    "## $$ k \\cot(ka + \\delta) = k' \\cot(k' a) \\quad (1.28) $$\n",
    "\n",
    "### We now make use of the identity\n",
    "## $$ \\cot(A+B) = \\frac{\\cot(A)\\cot(B) - 1}{\\cot(A) + \\cot(B)} \\quad (1.29) $$\n",
    "\n",
    "### from which we find\n",
    "## $$ \\frac{k'}{k} \\cot(k' a) = \\cot(ka + \\delta) = \\frac{\\cot(ka)\\cot(\\delta)-1}{\\cot(ka)+\\cot(\\delta)} \\quad (1.30) $$\n",
    "\n",
    "### Solving this equation for $\\cot(\\delta)$ yields\n",
    "## $$ \\boxed{ \\cot(\\delta) = \\frac{\\tan(ka) + \\frac{k'}{k} \\cot(k' a)}{1 - \\frac{k'}{k}\\cot(k' a) \\tan(ka)} } \\quad (1.31) $$\n",
    "\n",
    "### While this is a complicated formula to analyze directly, we can always plot it with a computer for different values of $V_0$. \n",
    "\n",
    "### As usual we characterize the well by the constant $z_0$, defined by\n",
    "## $$ z_0^2 = \\frac{2m V_0 a^2}{\\hbar^2} \\quad (1.32) $$\n",
    "\n",
    "### Note also that\n",
    "## $$ k' a = \\sqrt{z_0^2 + (ka)^2} \\quad (1.33) $$"
   ]
  },
  {
   "cell_type": "markdown",
   "id": "8b135b58-953d-41b2-9a51-300fdee52f9d",
   "metadata": {},
   "source": [
    "### Figure 5 shows the phase factor $\\delta$, the quantity $\\sin^2(\\delta)$, the time delay $\\displaystyle \\frac{1}{a} \\frac{d\\delta}{dk}$, and the amplitude $|A|$ inside the well as functions of $ka$, for $z_0^2 = 3.40$.\n",
    "\n",
    "### Figure 5: Various quantities plotted as functions of $ka$, for $z_0^2 = 3.40$. Top: the phase shift, going from zero to $-\\pi$. Second: the scattering amplitude $|A_s|^2 = \\sin^2(\\delta)$. Third: the delay relative to the free transit time. Last: the norm $|A|$ of the amplitude of the wave inside the well.\n",
    "![img](img/img-18-05.png)\n",
    "\n",
    "### Note that the phase $\\delta$ begins at $0$ for zero energy and reaches $-\\pi$ for infinite energy. The excursion of the phase is thus $\\pi$ and as we will see, this happens because for this value of $z_0$ the potential would have one bound state.\n",
    "\n",
    "### The value of $|A_s|^2 = \\sin^2(\\delta)$ represents the probability of scattering and it peaks for the value of $ka$ for which the phase $\\delta$ has absolute value $\\pi/2$.\n",
    "\n",
    "### Next in the plot is the unit-free delay $\\displaystyle \\frac{1}{a} \\frac{d\\delta}{dk}$. Notice that the delay is negative. This is easily explained: as the particle moves over the well, its kinetic energy is increased by $V_0$, the particle speeds up as it reaches and bounces off the wall.\n",
    "\n",
    "### The last plot shows the magnitude $|A|$ of the constant that gives the amplitude of the wavefunction in the region $0 < x < a$.\n",
    "\n",
    "### At very large energy $E \\gg V_0$, the particle hardly notices the potential. Indeed we see that $\\delta$ approaches $-\\pi$ which, as noted below $(1.8)$, is equivalent to $\\delta = 0$ and means no phase shift. Accordingly $\\sin^2(\\delta) \\to 0$, meaning no scattering. We also have $\\displaystyle \\frac{1}{a} \\frac{d\\delta}{dk} \\to 0$, meaning no time delay and, finally, $|A| \\to 1$ as in the free solution."
   ]
  },
  {
   "cell_type": "markdown",
   "id": "1931e7c9-6bc2-499c-97ce-4f541c72dbae",
   "metadata": {},
   "source": []
  }
 ],
 "metadata": {
  "kernelspec": {
   "display_name": "Python 3",
   "language": "python",
   "name": "python3"
  },
  "language_info": {
   "codemirror_mode": {
    "name": "ipython",
    "version": 3
   },
   "file_extension": ".py",
   "mimetype": "text/x-python",
   "name": "python",
   "nbconvert_exporter": "python",
   "pygments_lexer": "ipython3",
   "version": "3.8.8"
  }
 },
 "nbformat": 4,
 "nbformat_minor": 5
}
