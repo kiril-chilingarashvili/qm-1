{
 "cells": [
  {
   "cell_type": "markdown",
   "id": "16695a92-8dea-4629-bb26-d013e1df9848",
   "metadata": {},
   "source": [
    "# Lecture 4: de Broglie matter waves, Group velocity and stationary phase, Free particle waves"
   ]
  },
  {
   "cell_type": "markdown",
   "id": "64edaeca-1e76-4c62-bad5-8f9bb9f86d22",
   "metadata": {},
   "source": []
  }
 ],
 "metadata": {
  "kernelspec": {
   "display_name": "Python 3",
   "language": "python",
   "name": "python3"
  },
  "language_info": {
   "codemirror_mode": {
    "name": "ipython",
    "version": 3
   },
   "file_extension": ".py",
   "mimetype": "text/x-python",
   "name": "python",
   "nbconvert_exporter": "python",
   "pygments_lexer": "ipython3",
   "version": "3.8.8"
  }
 },
 "nbformat": 4,
 "nbformat_minor": 5
}
