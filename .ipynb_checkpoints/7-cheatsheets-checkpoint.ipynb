{
 "cells": [
  {
   "cell_type": "markdown",
   "id": "e9e17992-c4cc-4eb9-9ab1-87b02c0d5b71",
   "metadata": {},
   "source": [
    "# Lecture 7: Wavepackets and uncertainty, Time evolution and shape change"
   ]
  },
  {
   "cell_type": "markdown",
   "id": "7a816ad7-8863-4d6a-8876-d6514f83e095",
   "metadata": {},
   "source": []
  }
 ],
 "metadata": {
  "kernelspec": {
   "display_name": "Python 3",
   "language": "python",
   "name": "python3"
  },
  "language_info": {
   "codemirror_mode": {
    "name": "ipython",
    "version": 3
   },
   "file_extension": ".py",
   "mimetype": "text/x-python",
   "name": "python",
   "nbconvert_exporter": "python",
   "pygments_lexer": "ipython3",
   "version": "3.8.8"
  }
 },
 "nbformat": 4,
 "nbformat_minor": 5
}
