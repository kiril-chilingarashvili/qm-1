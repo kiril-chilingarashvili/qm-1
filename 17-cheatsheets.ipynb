{
 "cells": [
  {
   "cell_type": "markdown",
   "id": "b62ca2d9-88ec-43a1-99de-1a30e12fe965",
   "metadata": {},
   "source": [
    "# Lecture 17: Resonant transmittion and Ramsauer Townsend effect"
   ]
  },
  {
   "cell_type": "markdown",
   "id": "06a9acac-4818-491d-a6e1-2fb3ad018629",
   "metadata": {},
   "source": [
    "## 17.1 Resonant transmission in a square well\n",
    "\n",
    "### Consider the finite square well\n",
    "## $$ V(x) = \\left\\{ \\begin{array} {lcl} 0, & \\text{for} & |x|>a \\\\ -V_0 & \\text{for} & |x|<a \\end{array} \\right. \\quad (1.1) $$\n",
    "\n",
    "### Here $V_0 > 0$ has units of energy. We consider an energy eigenstate, a scattering solution with $E > 0$ that represents an incoming wavefunction approaching the well from the left. An ansatz for the eigenstate will be of the form\n",
    "## $$ \\psi(x) = \\left\\{ \\begin{array} {lcl} Ae^{ikx}+B e^{-ikx}, & & x<-a \\\\ C e^{i k_2 x} + D e^{-ik_2 x}, & & |x| < a \\\\ F e^{ikx}, & & x>a \\end{array}  \\right. \\quad (1.2) $$\n",
    "\n",
    "### Figure 1: The square well with all the relevant waves as one, with coefficient $A$ is incident from the left.\n",
    "![img](img/img-17-01.png)\n",
    "\n",
    "### Here $A$ is the coefficient of the incoming wave that exists for $x < a$, and $B$ is the coefficient of the reflected wave (see Figure 1). Both of these waves have wavenumber $k$. In the well region $|x| < a$ we have a wave moving to the right, with coefficient $C$ and a wave moving to the left, with coefficient $D$.\n",
    "\n",
    "### The wavenumber in this region is called $k_2$. To the right of the well we have just one wave, moving to the right. Its coefficient is $F$ and its wavenumber $k$. Note that even though the potential is an even function of $x$, a non-normalizable energy eigenstate need not be even nor odd. The symmetry is broken by the condition that a wave is incident from the left. The values of $k$ and $k_2$, both positive, are determined by the Schrodinger equation and are\n",
    "## $$ k^2=\\frac{2mE}{\\hbar^2}, \\quad k_2^2 = \\frac{2m (E+V_0)}{\\hbar^2} \\quad (1.3) $$\n",
    "\n",
    "### There are four boundary conditions: continuity of $\\psi$ and $\\psi'$ at $x=-a$ and at $x = a$. These four equations can be used to fix the coefficients $B$, $C$, $D$, and $F$ in terms of $A$. We define reflection and transmission coefficients $R$ and $T$ as follow\n",
    "## $$ R \\equiv \\frac{|B|^2}{|A|^2}, \\quad T \\equiv \\frac{|F|^2}{|A|^2} \\quad (1.4) $$\n",
    "\n",
    "### From probability current conservation we know that the currents to the left and to the right of the well must be equal so that\n",
    "## $$ |A|^2-|B|^2 = |F|^2 \\quad (1.5) $$\n",
    "\n",
    "### This is not an independent equation; it must follow from the boundary conditions. It implies that\n",
    "## $$ R+T = \\frac{|B|^2}{|A|^2}+\\frac{|F|^2}{|A|^2} = 1 \\quad (1.6) $$\n",
    "\n",
    "### showing that our definition of $R$ and $T$ makes sense."
   ]
  },
  {
   "cell_type": "markdown",
   "id": "d4bdd88d-bcc4-4032-91d0-2f1c6fae463e",
   "metadata": {},
   "source": [
    "### Solving for $R$ and $T$ is straightforward but a little laborious. Let us just quote the answer that one gets. The transmission coefficient is the following function of the energy $E$ of the eigenstate:\n",
    "## $$ \\frac{1}{T} = 1 + \\frac{1}{4} \\frac{V_0^2}{E(E+V_0)} \\sin^2 (2 k_2 a) \\quad (1.7) $$\n",
    "\n",
    "### Since the second term in the right-hand side is manifestly positive, we have $T \\leq 1$. As $E \\to 0$, we have  $\\displaystyle \\frac{1}{T} \\to 1 + \\infty$, which means $T \\to 0$. As $E \\to \\infty$, we have $T \\to 1$.\n",
    "\n",
    "### We can remove all units from this result by defining\n",
    "## $$ \\mathcal{E} \\equiv \\frac{E}{V_0}, \\quad z_0^2 \\equiv \\frac{2ma^2 V_0}{\\hbar^2} \\quad (1.8) $$\n",
    "\n",
    "### Then,\n",
    "## $$ (k_2 a)^2 = \\frac{2ma^2(E+V_0)}{\\hbar^2} = \\frac{2ma^2 V_0 (1+\\mathcal{E})}{\\hbar^2} \\to 2 k_2 a = 2 z_0 \\sqrt{1+\\mathcal{E}} \\quad (1.9) $$\n",
    "\n",
    "### so we have\n",
    "## $$ \\boxed{\\frac{1}{T} = 1 + \\frac{1}{4\\mathcal{E}(1+\\mathcal{E})}\\sin^2(2z_0 \\sqrt{1+\\mathcal{E}}) } \\quad (1.10) $$\n",
    "\n",
    "### We now can see that the well becomes transparent, making $T = 1$, for certain values of the energy. All we need is that the argument of the $sin$ function be a multiple of $\\pi$:\n",
    "## $$ 2z_0 \\sqrt{1+\\mathcal{E}} = n \\pi, \\quad n \\in \\mathbb{Z} \\quad (1.11) $$\n",
    "\n",
    "### Not all integers are allowed. Because $\\mathcal{E} > 0$, the left-hand side is bigger than or equal to $2z_0$ and therefore\n",
    "## $$ n \\geq \\frac{2 z_0}{\\pi} \\quad (1.12) $$"
   ]
  },
  {
   "cell_type": "markdown",
   "id": "fbe3c129-1754-49c4-ac56-debe408ddee9",
   "metadata": {},
   "source": [
    "### Call the associated energies $E_n = \\mathcal{E}_n V_0$. Then\n",
    "## $$ \\mathcal{E}_n + 1 = \\frac{n^2 \\pi^2}{4 z_0^2} = \\frac{n^2 \\pi^2 \\hbar^2}{2m(2a)^2 V_0} \\quad (1.13) $$\n",
    "\n",
    "### so that\n",
    "## $$ E_n + V_0 = \\frac{n^2 \\pi^2 \\hbar^2}{2m (2a)^2} \\quad (1.14) $$\n",
    "\n",
    "### Note that $E_n + V_0$ is the energy of the scattering state measured with respect to the bottom of the square well. The right-hand side is the energy of the $n$-th bound state of the **infinite** square well of width $2a$. We thus have a rather surprising result: **We get full transmission for those energies $E_n > 0$ that are in the spectrum of the infinite-square-well extension of our finite square well**. \n",
    "\n",
    "### The inequality $\\displaystyle n \\geq \\frac{2z_0}{\\pi}$ guarantees that $E_n > 0$. Since infinite square well bound states are characterized by fitting an integer number of half wavelengths, we have a resonance type situation in which perfect transmission is happening when the scattering waves fit perfectly inside the finite square well. The phenomenon we have observed is called **resonant transmission**!\n",
    "\n",
    "### Figure 2: We get resonant transmission across the finite well at the positive bound-state energies of a would-be infinite well.\n",
    "![img](img/img-17-02.png)\n",
    "\n",
    "### The fitting of an exact number of half wavelengths can also be seen directly from the vanishing of the $sin$ function in $(1.7)$ giving $k_2(2a) = n\\pi$ which implies\n",
    "## $$ \\frac{2\\pi}{\\lambda} (2a) = n\\pi \\to 2a = n \\frac{\\lambda}{2} \\quad (1.15) $$\n",
    "\n",
    "### We show in Figure 3 the transmission coefficient $T$ as a function of $\\mathcal{E} = E/V_0$ for a square well with $z_0 = 13\\pi/4$. In this case we must have $n \\geq 13/2$ or $n \\geq 7$."
   ]
  },
  {
   "cell_type": "markdown",
   "id": "cff0978b-9aa1-4936-9bcd-b699c0f5c5c1",
   "metadata": {},
   "source": [
    "## 17.2 The Ramsauer–Townsend Effect\n",
    "\n",
    "### Carl Ramsauer and John Sealy Townsend published separately their investigations in 1921. They were studying the elastic scattering of low-energy electrons off of rare-gas atoms, such as noble gases.\n",
    "\n",
    "### Figure 3: The transmission coefficient $T$ as a function of $\\mathcal{E}$ for a square well with $\\displaystyle z_0 = 13\\pi/4$ . At the energies for which $T = 1$ we have resonant scattering. The values of $E_7, E_8, \\ldots$ are indicated in the figure. There are three cases of resonant transmission for $0 < E < V_0$. Note that the spacing between the points where $T = 1$ grows as $\\mathcal{E}$ grows.\n",
    "![img](img/img-17-03.png)\n",
    "\n",
    "### These gases have their electronic shells fully filled and are both very un-reactive and have high ionization energies. The potential is created by the nucleus, and becomes visible as the incident electron penetrates the electron cloud. This potential is a spherically symmetric attractive potential for the electrons – some kind of finite spherical well. In the experiment some electrons collide with the atoms and scatter, mostly bouncing back. We can thus view the reflection coefficient $R$ as a proxy for the scattering cross section!\n",
    "\n",
    "### Ramsauer and Townsend reported a very unusual phenomenon. At very low energies, the scattering cross section was high. But the energy dependence was surprising. As the energy was increased the scattering went down towards zero, to go up again as the energy was increased further. Such mysterious behavior had no sensible classical explanation. What one has at play is quantum-mechanical resonant scattering. The cross section going to zero means the reflection coefficient going to zero, and the transmission coefficient going to one! The first resonant transmission happens for electrons of around one electron-volt (such electrons have a speed of about $600$ Km/s). \n",
    "\n",
    "### Figure 4 provides a sketch of both $R$ and $T$ as a function of energy. Our one-dimensional square well potential does not provide a good quantitative match for the data, but it illustrates the physical phenomenon. A three-dimensional spherical square well is needed for a quantitative analysis.\n",
    "\n",
    "### Figure 4: The reflection and transmission coefficients as a function of energy for the Ramsauer–Townsend effect. Note that $R + T = 1$. At the arrow, we have $R = 0$, so there is no scattering. All of the electrons go straight through the noble gas atoms! They experience resonant transmission. This first occurs around $1 \\mathop{eV}$.\n",
    "![img](img/img-17-04.png)"
   ]
  },
  {
   "cell_type": "markdown",
   "id": "c83b65cd-8564-4108-aa2b-1f0419da4f6b",
   "metadata": {},
   "source": []
  }
 ],
 "metadata": {
  "kernelspec": {
   "display_name": "Python 3",
   "language": "python",
   "name": "python3"
  },
  "language_info": {
   "codemirror_mode": {
    "name": "ipython",
    "version": 3
   },
   "file_extension": ".py",
   "mimetype": "text/x-python",
   "name": "python",
   "nbconvert_exporter": "python",
   "pygments_lexer": "ipython3",
   "version": "3.8.8"
  }
 },
 "nbformat": 4,
 "nbformat_minor": 5
}
